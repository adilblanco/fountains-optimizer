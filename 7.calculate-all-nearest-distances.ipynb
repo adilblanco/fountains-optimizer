{
 "cells": [
  {
   "cell_type": "code",
   "execution_count": 1,
   "id": "ffb6091e",
   "metadata": {},
   "outputs": [],
   "source": [
    "import requests\n",
    "import numpy as np\n",
    "import pandas as pd\n",
    "import geopandas as gpd\n",
    "from pandas import json_normalize\n",
    "\n",
    "from scipy.spatial import cKDTree\n",
    "from shapely.geometry import shape\n",
    "from geopy.distance import distance"
   ]
  },
  {
   "cell_type": "code",
   "execution_count": 2,
   "id": "e206ae40",
   "metadata": {},
   "outputs": [],
   "source": [
    "WGS84=4326\n",
    "MTM8=32188\n",
    "\n",
    "def process_request(url):\n",
    "    response = requests.get(url)\n",
    "    response.raise_for_status()\n",
    "    return response.json()\n",
    "\n",
    "\n",
    "def json_items_to_geodataframe(http_response):\n",
    "    return gpd.GeoDataFrame().from_features(http_response).set_crs(f\"epsg:{WGS84}\")\n",
    "\n",
    "\n",
    "def prepare_data(gdf):\n",
    "    gdf.columns = gdf.columns.str.lower()\n",
    "    gdf_mtm8 = gdf.to_crs(epsg=MTM8)\n",
    "    return gdf_mtm8\n",
    "\n",
    "\n",
    "def process_fountains_data(url):\n",
    "    df = pd.read_csv(url)\n",
    "    return df\n",
    "\n",
    "\n",
    "def create_fountains_geodataframe(df):\n",
    "    gdf = gpd.GeoDataFrame(df, geometry=gpd.points_from_xy(df.Longitude, df.Latitude)).set_crs(f\"epsg:{WGS84}\")\n",
    "    return gdf\n",
    "\n",
    "\n",
    "def calculate_nearest_fountains_distance(row):\n",
    "    point = row['geometry']\n",
    "    closest_point = row['closest_point']\n",
    "    return distance((point.y, point.x), (closest_point.y, closest_point.x)).meters\n",
    "\n",
    "\n",
    "def get_nearest_fountains(gdf):\n",
    "    # Create a KDTree from the geometry of the GeoDataFrame\n",
    "    tree = cKDTree(np.array(gdf.geometry.apply(lambda geom: [geom.x, geom.y])).tolist())\n",
    "\n",
    "    # Query the tree for the closest points to each point in the GeoDataFrame\n",
    "    distances, indices = tree.query(np.array(gdf.geometry.apply(lambda geom: [geom.x, geom.y])).tolist(), k=2)\n",
    "\n",
    "    # Get the closest point for each row\n",
    "    gdf['closest_point'] = gdf.geometry.iloc[indices[:, 1]].values\n",
    "    \n",
    "    return gdf"
   ]
  },
  {
   "cell_type": "code",
   "execution_count": 3,
   "id": "4205f193",
   "metadata": {},
   "outputs": [],
   "source": [
    "rev_url=\"https://donnees.montreal.ca/dataset/8a4bf03c-dff6-4add-b58b-c38954b0ed0d/resource/8ad67029-cf2e-49ae-a4b6-20d31611ab6e/download/reseau-express-velo.geojson\"\n",
    "parcs_url=\"https://donnees.montreal.ca/dataset/2e9e4d2f-173a-4c3d-a5e3-565d79baa27d/resource/35796624-15df-4503-a569-797665f8768e/download/espace_vert.json\"\n",
    "piste_cyclable_url=\"https://donnees.montreal.ca/dataset/5ea29f40-1b5b-4f34-85b3-7c67088ff536/resource/0dc6612a-be66-406b-b2d9-59c9e1c65ebf/download/reseau_cyclable.geojson\"\n",
    "fountaines_url=\"https://donnees.montreal.ca/dataset/3ff400f3-63cd-446d-8405-842383377fb8/resource/26659739-540d-4fe2-8107-5f35ab7e807c/download/fontaine_eau_potable_v2018.csv\"\n",
    "rvertes_url=\"https://data.montreal.ca/dataset/ab3ce7bb-09a7-49d7-8f76-461ed4c39937/resource/15883136-0180-4061-9860-d7ce3d46c73c/download/ruelles-vertes.geojson\"\n",
    "mobilier_urbain_url=\"https://donnees.montreal.ca/dataset/fb04fa09-fda1-44df-b575-1d14b2508372/resource/65766e31-f186-4ac9-9595-bfcf47ae9158/download/mobilierurbaingp.geojson\"\n",
    "terrain_externe_url=\"https://donnees.montreal.ca/dataset/60850740-dd83-47ee-9a19-13d674e90314/resource/2dac229f-6089-4cb7-ab0b-eadc6a147d5d/download/terrain_sport_ext.json\""
   ]
  },
  {
   "cell_type": "code",
   "execution_count": 4,
   "id": "6e793212",
   "metadata": {},
   "outputs": [],
   "source": [
    "fountaines_df = process_fountains_data(fountaines_url)\n",
    "fountaines_gdf = create_fountains_geodataframe(fountaines_df)"
   ]
  },
  {
   "cell_type": "code",
   "execution_count": 5,
   "id": "0502b614",
   "metadata": {},
   "outputs": [],
   "source": [
    "fountaines_gdf = get_nearest_fountains(fountaines_gdf)\n",
    "fountaines_gdf[\"nearest_fountain\"] = fountaines_gdf.apply(calculate_nearest_fountains_distance, axis=1)\n",
    "fountaines_gdf = prepare_data(fountaines_gdf)"
   ]
  },
  {
   "cell_type": "code",
   "execution_count": 6,
   "id": "3f8375b4",
   "metadata": {},
   "outputs": [],
   "source": [
    "http_response = process_request(rvertes_url)\n",
    "rvertes_gdf = json_items_to_geodataframe(http_response)\n",
    "rvertes_gdf = prepare_data(rvertes_gdf)"
   ]
  },
  {
   "cell_type": "code",
   "execution_count": 7,
   "id": "b08d64e1",
   "metadata": {},
   "outputs": [],
   "source": [
    "http_response = process_request(terrain_externe_url)\n",
    "terrain_externe_gdf = json_items_to_geodataframe(http_response)\n",
    "terrain_externe_gdf = prepare_data(terrain_externe_gdf)"
   ]
  },
  {
   "cell_type": "code",
   "execution_count": 8,
   "id": "b303ad6b",
   "metadata": {},
   "outputs": [],
   "source": [
    "http_response = process_request(rev_url)\n",
    "rev_gdf = json_items_to_geodataframe(http_response)\n",
    "rev_gdf = prepare_data(rev_gdf)"
   ]
  },
  {
   "cell_type": "code",
   "execution_count": 9,
   "id": "ce765628",
   "metadata": {},
   "outputs": [],
   "source": [
    "http_response = process_request(piste_cyclable_url)\n",
    "piste_cyclable_gdf = json_items_to_geodataframe(http_response)\n",
    "piste_cyclable_gdf = prepare_data(piste_cyclable_gdf)"
   ]
  },
  {
   "cell_type": "code",
   "execution_count": 10,
   "id": "f4d82eae",
   "metadata": {},
   "outputs": [],
   "source": [
    "http_response = process_request(mobilier_urbain_url)\n",
    "mobilier_urbain_gdf = json_items_to_geodataframe(http_response)\n",
    "mobilier_urbain_gdf = prepare_data(mobilier_urbain_gdf)"
   ]
  },
  {
   "cell_type": "code",
   "execution_count": 11,
   "id": "e6eb007d",
   "metadata": {},
   "outputs": [
    {
     "name": "stdout",
     "output_type": "stream",
     "text": [
      "rev: 87\n",
      "fountaines: 848\n",
      "ruelles vertes: 1254\n",
      "piste cyclable: 8907\n",
      "mobilier urbains: 6797\n",
      "terrain externes: 3476\n"
     ]
    }
   ],
   "source": [
    "print(f\"rev: {len(rev_gdf)}\")\n",
    "print(f\"fountaines: {len(fountaines_gdf)}\")\n",
    "print(f\"ruelles vertes: {len(rvertes_gdf)}\")\n",
    "print(f\"piste cyclable: {len(piste_cyclable_gdf)}\")\n",
    "print(f\"mobilier urbains: {len(mobilier_urbain_gdf)}\")\n",
    "print(f\"terrain externes: {len(terrain_externe_gdf)}\")"
   ]
  },
  {
   "cell_type": "code",
   "execution_count": 12,
   "id": "ed0a75cc",
   "metadata": {},
   "outputs": [
    {
     "name": "stdout",
     "output_type": "stream",
     "text": [
      "rev: EPSG:32188\n",
      "fountaines: EPSG:32188\n",
      "ruelles vertes: EPSG:32188\n",
      "piste cyclable: EPSG:32188\n",
      "mobilier urbains: EPSG:32188\n",
      "terrain externes: EPSG:32188\n"
     ]
    }
   ],
   "source": [
    "print(f\"rev: {rev_gdf.crs}\")\n",
    "print(f\"fountaines: {fountaines_gdf.crs}\")\n",
    "print(f\"ruelles vertes: {rvertes_gdf.crs}\")\n",
    "print(f\"piste cyclable: {piste_cyclable_gdf.crs}\")\n",
    "print(f\"mobilier urbains: {mobilier_urbain_gdf.crs}\")\n",
    "print(f\"terrain externes: {terrain_externe_gdf.crs}\")"
   ]
  },
  {
   "cell_type": "code",
   "execution_count": 13,
   "id": "456e0b48",
   "metadata": {},
   "outputs": [],
   "source": [
    "rev_gdf = rev_gdf.rename(columns={\"id\": \"objectid\"})\n",
    "rvertes_gdf = rvertes_gdf.rename(columns={\"id_trc\": \"objectid\"})\n",
    "piste_cyclable_gdf = piste_cyclable_gdf.rename(columns={\"id_cycl\": \"objectid\"})"
   ]
  },
  {
   "cell_type": "code",
   "execution_count": 14,
   "id": "aaa3e8d1",
   "metadata": {},
   "outputs": [],
   "source": [
    "columns = [\"objectid\", \"geometry\"]\n",
    "rev_filtred_gdf = rev_gdf.filter(columns)\n",
    "rvertes_filtred_gdf = rvertes_gdf.filter(columns)\n",
    "piste_cyclable_filtred_gdf = piste_cyclable_gdf.filter(columns)\n",
    "mobilier_urbain_filtred_gdf = mobilier_urbain_gdf.filter(columns)\n",
    "terrain_externe_filtred_gdf = terrain_externe_gdf.filter(columns)"
   ]
  },
  {
   "cell_type": "code",
   "execution_count": 15,
   "id": "9917f998",
   "metadata": {},
   "outputs": [],
   "source": [
    "columns = [\"id\", \"geometry\", \"nearest_fountain\"]\n",
    "fountaines_filtred_gdf = fountaines_gdf.filter(columns)"
   ]
  },
  {
   "cell_type": "code",
   "execution_count": 16,
   "id": "a66c03c1",
   "metadata": {},
   "outputs": [],
   "source": [
    "fountains_nearest_rvertes = \\\n",
    " fountaines_filtred_gdf.sjoin_nearest(rvertes_filtred_gdf, how=\"left\", distance_col=\"nearest_rvertes\")"
   ]
  },
  {
   "cell_type": "code",
   "execution_count": 17,
   "id": "fbf97c38",
   "metadata": {},
   "outputs": [],
   "source": [
    "fountains_nearest_rev = \\\n",
    " fountaines_filtred_gdf.sjoin_nearest(rev_filtred_gdf, how=\"left\", distance_col=\"nearest_rev\")"
   ]
  },
  {
   "cell_type": "code",
   "execution_count": 18,
   "id": "9f76f18e",
   "metadata": {},
   "outputs": [],
   "source": [
    "fountains_nearest_piste_cyclable = \\\n",
    " fountaines_filtred_gdf.sjoin_nearest(piste_cyclable_filtred_gdf, how=\"left\", distance_col=\"nearest_pcyclable\")"
   ]
  },
  {
   "cell_type": "code",
   "execution_count": 19,
   "id": "8a14da2a",
   "metadata": {},
   "outputs": [],
   "source": [
    "fountains_nearest_mobilier_urbain = \\\n",
    " fountaines_filtred_gdf.sjoin_nearest(mobilier_urbain_filtred_gdf, how=\"left\", distance_col=\"nearest_murbain\")"
   ]
  },
  {
   "cell_type": "code",
   "execution_count": 20,
   "id": "b68c7a26",
   "metadata": {},
   "outputs": [],
   "source": [
    "fountains_nearest_installation_externe = \\\n",
    " fountaines_filtred_gdf.sjoin_nearest(terrain_externe_filtred_gdf, how=\"left\", distance_col=\"nearest_iexterne\")"
   ]
  },
  {
   "cell_type": "code",
   "execution_count": 21,
   "id": "c52e7107",
   "metadata": {},
   "outputs": [
    {
     "name": "stdout",
     "output_type": "stream",
     "text": [
      "min nearest rev: 10.765171370946362\n",
      "min nearest ruelles vertes: 2.5745363322386083\n",
      "min nearest piste cyclable: 0.6113412388749414\n",
      "min nearest mobilier urbain: 0.0003687759228418947\n",
      "min nearest installation externe: 1.1995347638310314\n"
     ]
    }
   ],
   "source": [
    "print(f\"min nearest rev: {min(fountains_nearest_rev['nearest_rev'])}\")\n",
    "print(f\"min nearest ruelles vertes: {min(fountains_nearest_rvertes['nearest_rvertes'])}\")\n",
    "print(f\"min nearest piste cyclable: {min(fountains_nearest_piste_cyclable['nearest_pcyclable'])}\")\n",
    "print(f\"min nearest mobilier urbain: {min(fountains_nearest_mobilier_urbain['nearest_murbain'])}\")\n",
    "print(f\"min nearest installation externe: {min(fountains_nearest_installation_externe['nearest_iexterne'])}\")"
   ]
  },
  {
   "cell_type": "code",
   "execution_count": 22,
   "id": "2e408a7b",
   "metadata": {},
   "outputs": [
    {
     "name": "stdout",
     "output_type": "stream",
     "text": [
      "max nearest rev: 23190.890597142912\n",
      "max nearest ruelles vertes: 23151.850528372557\n",
      "max nearest piste cyclable: 815.7034137786129\n",
      "max nearest mobilier urbain: 5141.165468421593\n",
      "max nearest installation externe: 711.2697281172307\n"
     ]
    }
   ],
   "source": [
    "print(f\"max nearest rev: {max(fountains_nearest_rev['nearest_rev'])}\")\n",
    "print(f\"max nearest ruelles vertes: {max(fountains_nearest_rvertes['nearest_rvertes'])}\")\n",
    "print(f\"max nearest piste cyclable: {max(fountains_nearest_piste_cyclable['nearest_pcyclable'])}\")\n",
    "print(f\"max nearest mobilier urbain: {max(fountains_nearest_mobilier_urbain['nearest_murbain'])}\")\n",
    "print(f\"max nearest installation externe: {max(fountains_nearest_installation_externe['nearest_iexterne'])}\")"
   ]
  },
  {
   "cell_type": "code",
   "execution_count": 23,
   "id": "0dfcf74c",
   "metadata": {},
   "outputs": [
    {
     "name": "stdout",
     "output_type": "stream",
     "text": [
      "nearest rev: 865\n",
      "ruelles vertes: 854\n",
      "piste cyclable: 921\n",
      "mobilier urbain: 848\n",
      "installation externe: 848\n"
     ]
    }
   ],
   "source": [
    "print(f\"nearest rev: {len(fountains_nearest_rev)}\")\n",
    "print(f\"ruelles vertes: {len(fountains_nearest_rvertes)}\")\n",
    "print(f\"piste cyclable: {len(fountains_nearest_piste_cyclable)}\")\n",
    "print(f\"mobilier urbain: {len(fountains_nearest_mobilier_urbain)}\")\n",
    "print(f\"installation externe: {len(fountains_nearest_installation_externe)}\")"
   ]
  },
  {
   "cell_type": "code",
   "execution_count": 24,
   "id": "ea2ae60b",
   "metadata": {},
   "outputs": [],
   "source": [
    "fountains_nearest_rev = fountains_nearest_rev.drop_duplicates(subset='id', keep=\"first\")\n",
    "fountains_nearest_rvertes = fountains_nearest_rvertes.drop_duplicates(subset='id', keep=\"first\")\n",
    "fountains_nearest_piste_cyclable = fountains_nearest_piste_cyclable.drop_duplicates(subset='id', keep=\"first\")"
   ]
  },
  {
   "cell_type": "code",
   "execution_count": 25,
   "id": "a5b62dd2",
   "metadata": {},
   "outputs": [],
   "source": [
    "fountains_nearest_rev = fountains_nearest_rev.sort_values(by=[\"id\"])\n",
    "fountains_nearest_rvertes = fountains_nearest_rvertes.sort_values(by=[\"id\"])\n",
    "fountains_nearest_piste_cyclable = fountains_nearest_piste_cyclable.sort_values(by=[\"id\"])\n",
    "fountains_nearest_mobilier_urbain = fountains_nearest_mobilier_urbain.sort_values(by=[\"id\"])\n",
    "fountains_nearest_installation_externe = fountains_nearest_installation_externe.sort_values(by=[\"id\"])"
   ]
  },
  {
   "cell_type": "code",
   "execution_count": 26,
   "id": "cf230ea0",
   "metadata": {},
   "outputs": [],
   "source": [
    "rev = fountains_nearest_rev[[\"id\", \"nearest_rev\", \"nearest_fountain\"]]\n",
    "rvertes = fountains_nearest_rvertes[[\"nearest_rvertes\"]]\n",
    "pcyclable = fountains_nearest_piste_cyclable[[\"nearest_pcyclable\"]]\n",
    "murbain = fountains_nearest_mobilier_urbain[[\"nearest_murbain\"]]\n",
    "iexterne = fountains_nearest_installation_externe[[\"nearest_iexterne\"]]"
   ]
  },
  {
   "cell_type": "code",
   "execution_count": 27,
   "id": "db26c84b",
   "metadata": {},
   "outputs": [],
   "source": [
    "# concatenate columns\n",
    "dfs = [rev, rvertes, pcyclable, murbain, iexterne]\n",
    "result = pd.concat(dfs, axis=1)"
   ]
  },
  {
   "cell_type": "code",
   "execution_count": 28,
   "id": "8db6da1d",
   "metadata": {},
   "outputs": [
    {
     "data": {
      "text/html": [
       "<div>\n",
       "<style scoped>\n",
       "    .dataframe tbody tr th:only-of-type {\n",
       "        vertical-align: middle;\n",
       "    }\n",
       "\n",
       "    .dataframe tbody tr th {\n",
       "        vertical-align: top;\n",
       "    }\n",
       "\n",
       "    .dataframe thead th {\n",
       "        text-align: right;\n",
       "    }\n",
       "</style>\n",
       "<table border=\"1\" class=\"dataframe\">\n",
       "  <thead>\n",
       "    <tr style=\"text-align: right;\">\n",
       "      <th></th>\n",
       "      <th>id</th>\n",
       "      <th>nearest_rev</th>\n",
       "      <th>nearest_fountain</th>\n",
       "      <th>nearest_rvertes</th>\n",
       "      <th>nearest_pcyclable</th>\n",
       "      <th>nearest_murbain</th>\n",
       "      <th>nearest_iexterne</th>\n",
       "    </tr>\n",
       "  </thead>\n",
       "  <tbody>\n",
       "    <tr>\n",
       "      <th>0</th>\n",
       "      <td>1</td>\n",
       "      <td>2697.569104</td>\n",
       "      <td>48.907970</td>\n",
       "      <td>2512.295088</td>\n",
       "      <td>176.113692</td>\n",
       "      <td>2529.702004</td>\n",
       "      <td>21.446787</td>\n",
       "    </tr>\n",
       "    <tr>\n",
       "      <th>1</th>\n",
       "      <td>2</td>\n",
       "      <td>2745.451551</td>\n",
       "      <td>1.408827</td>\n",
       "      <td>2541.866572</td>\n",
       "      <td>167.330400</td>\n",
       "      <td>2495.967421</td>\n",
       "      <td>33.065103</td>\n",
       "    </tr>\n",
       "    <tr>\n",
       "      <th>2</th>\n",
       "      <td>3</td>\n",
       "      <td>2744.043719</td>\n",
       "      <td>1.408827</td>\n",
       "      <td>2540.756133</td>\n",
       "      <td>167.190902</td>\n",
       "      <td>2497.152536</td>\n",
       "      <td>32.652200</td>\n",
       "    </tr>\n",
       "    <tr>\n",
       "      <th>3</th>\n",
       "      <td>4</td>\n",
       "      <td>2582.406191</td>\n",
       "      <td>141.348494</td>\n",
       "      <td>2371.053545</td>\n",
       "      <td>84.592035</td>\n",
       "      <td>2670.529930</td>\n",
       "      <td>18.837126</td>\n",
       "    </tr>\n",
       "    <tr>\n",
       "      <th>4</th>\n",
       "      <td>5</td>\n",
       "      <td>2864.119220</td>\n",
       "      <td>126.598086</td>\n",
       "      <td>2456.527385</td>\n",
       "      <td>79.330947</td>\n",
       "      <td>2419.307259</td>\n",
       "      <td>29.983704</td>\n",
       "    </tr>\n",
       "  </tbody>\n",
       "</table>\n",
       "</div>"
      ],
      "text/plain": [
       "   id  nearest_rev  nearest_fountain  nearest_rvertes  nearest_pcyclable   \n",
       "0   1  2697.569104         48.907970      2512.295088         176.113692  \\\n",
       "1   2  2745.451551          1.408827      2541.866572         167.330400   \n",
       "2   3  2744.043719          1.408827      2540.756133         167.190902   \n",
       "3   4  2582.406191        141.348494      2371.053545          84.592035   \n",
       "4   5  2864.119220        126.598086      2456.527385          79.330947   \n",
       "\n",
       "   nearest_murbain  nearest_iexterne  \n",
       "0      2529.702004         21.446787  \n",
       "1      2495.967421         33.065103  \n",
       "2      2497.152536         32.652200  \n",
       "3      2670.529930         18.837126  \n",
       "4      2419.307259         29.983704  "
      ]
     },
     "execution_count": 28,
     "metadata": {},
     "output_type": "execute_result"
    }
   ],
   "source": [
    "result.head()"
   ]
  },
  {
   "cell_type": "code",
   "execution_count": 29,
   "id": "c3b2c202",
   "metadata": {},
   "outputs": [],
   "source": [
    "df = result.copy() \n",
    "# Set 'id' column as index\n",
    "df = df.set_index('id')\n",
    "\n",
    "# Find the column with the minimum value for each row\n",
    "min_col = df.idxmin(axis=1)\n",
    "\n",
    "# Find the minimum value for each row\n",
    "min_val = df.min(axis=1)\n",
    "\n",
    "# Create a new DataFrame with the id and the column name where the minimum value was found\n",
    "min_df = pd.DataFrame({'id': df.index, 'min_col': min_col, 'min_val': min_val})\n",
    "\n",
    "# Reset the index\n",
    "min_df = min_df.reset_index(drop=True)"
   ]
  },
  {
   "cell_type": "code",
   "execution_count": 30,
   "id": "2eee15a0",
   "metadata": {},
   "outputs": [
    {
     "data": {
      "text/html": [
       "<div>\n",
       "<style scoped>\n",
       "    .dataframe tbody tr th:only-of-type {\n",
       "        vertical-align: middle;\n",
       "    }\n",
       "\n",
       "    .dataframe tbody tr th {\n",
       "        vertical-align: top;\n",
       "    }\n",
       "\n",
       "    .dataframe thead th {\n",
       "        text-align: right;\n",
       "    }\n",
       "</style>\n",
       "<table border=\"1\" class=\"dataframe\">\n",
       "  <thead>\n",
       "    <tr style=\"text-align: right;\">\n",
       "      <th></th>\n",
       "      <th>id</th>\n",
       "      <th>min_col</th>\n",
       "      <th>min_val</th>\n",
       "    </tr>\n",
       "  </thead>\n",
       "  <tbody>\n",
       "    <tr>\n",
       "      <th>0</th>\n",
       "      <td>1</td>\n",
       "      <td>nearest_iexterne</td>\n",
       "      <td>21.446787</td>\n",
       "    </tr>\n",
       "    <tr>\n",
       "      <th>1</th>\n",
       "      <td>2</td>\n",
       "      <td>nearest_fountain</td>\n",
       "      <td>1.408827</td>\n",
       "    </tr>\n",
       "    <tr>\n",
       "      <th>2</th>\n",
       "      <td>3</td>\n",
       "      <td>nearest_fountain</td>\n",
       "      <td>1.408827</td>\n",
       "    </tr>\n",
       "    <tr>\n",
       "      <th>3</th>\n",
       "      <td>4</td>\n",
       "      <td>nearest_iexterne</td>\n",
       "      <td>18.837126</td>\n",
       "    </tr>\n",
       "    <tr>\n",
       "      <th>4</th>\n",
       "      <td>5</td>\n",
       "      <td>nearest_iexterne</td>\n",
       "      <td>29.983704</td>\n",
       "    </tr>\n",
       "  </tbody>\n",
       "</table>\n",
       "</div>"
      ],
      "text/plain": [
       "   id           min_col    min_val\n",
       "0   1  nearest_iexterne  21.446787\n",
       "1   2  nearest_fountain   1.408827\n",
       "2   3  nearest_fountain   1.408827\n",
       "3   4  nearest_iexterne  18.837126\n",
       "4   5  nearest_iexterne  29.983704"
      ]
     },
     "execution_count": 30,
     "metadata": {},
     "output_type": "execute_result"
    }
   ],
   "source": [
    "min_df.head()"
   ]
  },
  {
   "cell_type": "code",
   "execution_count": 31,
   "id": "4d67a27e",
   "metadata": {},
   "outputs": [],
   "source": [
    "inner_merged = pd.merge(result, min_df)"
   ]
  },
  {
   "cell_type": "code",
   "execution_count": 32,
   "id": "109216f3",
   "metadata": {},
   "outputs": [
    {
     "data": {
      "text/html": [
       "<div>\n",
       "<style scoped>\n",
       "    .dataframe tbody tr th:only-of-type {\n",
       "        vertical-align: middle;\n",
       "    }\n",
       "\n",
       "    .dataframe tbody tr th {\n",
       "        vertical-align: top;\n",
       "    }\n",
       "\n",
       "    .dataframe thead th {\n",
       "        text-align: right;\n",
       "    }\n",
       "</style>\n",
       "<table border=\"1\" class=\"dataframe\">\n",
       "  <thead>\n",
       "    <tr style=\"text-align: right;\">\n",
       "      <th></th>\n",
       "      <th>id</th>\n",
       "      <th>nearest_rev</th>\n",
       "      <th>nearest_fountain</th>\n",
       "      <th>nearest_rvertes</th>\n",
       "      <th>nearest_pcyclable</th>\n",
       "      <th>nearest_murbain</th>\n",
       "      <th>nearest_iexterne</th>\n",
       "      <th>min_col</th>\n",
       "      <th>min_val</th>\n",
       "    </tr>\n",
       "  </thead>\n",
       "  <tbody>\n",
       "    <tr>\n",
       "      <th>0</th>\n",
       "      <td>1</td>\n",
       "      <td>2697.569104</td>\n",
       "      <td>48.907970</td>\n",
       "      <td>2512.295088</td>\n",
       "      <td>176.113692</td>\n",
       "      <td>2529.702004</td>\n",
       "      <td>21.446787</td>\n",
       "      <td>nearest_iexterne</td>\n",
       "      <td>21.446787</td>\n",
       "    </tr>\n",
       "    <tr>\n",
       "      <th>1</th>\n",
       "      <td>2</td>\n",
       "      <td>2745.451551</td>\n",
       "      <td>1.408827</td>\n",
       "      <td>2541.866572</td>\n",
       "      <td>167.330400</td>\n",
       "      <td>2495.967421</td>\n",
       "      <td>33.065103</td>\n",
       "      <td>nearest_fountain</td>\n",
       "      <td>1.408827</td>\n",
       "    </tr>\n",
       "    <tr>\n",
       "      <th>2</th>\n",
       "      <td>3</td>\n",
       "      <td>2744.043719</td>\n",
       "      <td>1.408827</td>\n",
       "      <td>2540.756133</td>\n",
       "      <td>167.190902</td>\n",
       "      <td>2497.152536</td>\n",
       "      <td>32.652200</td>\n",
       "      <td>nearest_fountain</td>\n",
       "      <td>1.408827</td>\n",
       "    </tr>\n",
       "    <tr>\n",
       "      <th>3</th>\n",
       "      <td>4</td>\n",
       "      <td>2582.406191</td>\n",
       "      <td>141.348494</td>\n",
       "      <td>2371.053545</td>\n",
       "      <td>84.592035</td>\n",
       "      <td>2670.529930</td>\n",
       "      <td>18.837126</td>\n",
       "      <td>nearest_iexterne</td>\n",
       "      <td>18.837126</td>\n",
       "    </tr>\n",
       "    <tr>\n",
       "      <th>4</th>\n",
       "      <td>5</td>\n",
       "      <td>2864.119220</td>\n",
       "      <td>126.598086</td>\n",
       "      <td>2456.527385</td>\n",
       "      <td>79.330947</td>\n",
       "      <td>2419.307259</td>\n",
       "      <td>29.983704</td>\n",
       "      <td>nearest_iexterne</td>\n",
       "      <td>29.983704</td>\n",
       "    </tr>\n",
       "  </tbody>\n",
       "</table>\n",
       "</div>"
      ],
      "text/plain": [
       "   id  nearest_rev  nearest_fountain  nearest_rvertes  nearest_pcyclable   \n",
       "0   1  2697.569104         48.907970      2512.295088         176.113692  \\\n",
       "1   2  2745.451551          1.408827      2541.866572         167.330400   \n",
       "2   3  2744.043719          1.408827      2540.756133         167.190902   \n",
       "3   4  2582.406191        141.348494      2371.053545          84.592035   \n",
       "4   5  2864.119220        126.598086      2456.527385          79.330947   \n",
       "\n",
       "   nearest_murbain  nearest_iexterne           min_col    min_val  \n",
       "0      2529.702004         21.446787  nearest_iexterne  21.446787  \n",
       "1      2495.967421         33.065103  nearest_fountain   1.408827  \n",
       "2      2497.152536         32.652200  nearest_fountain   1.408827  \n",
       "3      2670.529930         18.837126  nearest_iexterne  18.837126  \n",
       "4      2419.307259         29.983704  nearest_iexterne  29.983704  "
      ]
     },
     "execution_count": 32,
     "metadata": {},
     "output_type": "execute_result"
    }
   ],
   "source": [
    "inner_merged.head()"
   ]
  },
  {
   "cell_type": "code",
   "execution_count": 33,
   "id": "bb37cce8",
   "metadata": {},
   "outputs": [],
   "source": [
    "inner_merged.to_csv(\"fountains-nearest-distances.csv\", index=False)"
   ]
  },
  {
   "cell_type": "code",
   "execution_count": null,
   "id": "d929d248",
   "metadata": {},
   "outputs": [],
   "source": []
  }
 ],
 "metadata": {
  "kernelspec": {
   "display_name": "Python 3 (ipykernel)",
   "language": "python",
   "name": "python3"
  },
  "language_info": {
   "codemirror_mode": {
    "name": "ipython",
    "version": 3
   },
   "file_extension": ".py",
   "mimetype": "text/x-python",
   "name": "python",
   "nbconvert_exporter": "python",
   "pygments_lexer": "ipython3",
   "version": "3.8.13"
  }
 },
 "nbformat": 4,
 "nbformat_minor": 5
}
