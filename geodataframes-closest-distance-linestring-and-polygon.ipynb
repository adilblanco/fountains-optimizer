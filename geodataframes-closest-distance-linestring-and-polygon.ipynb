{
 "cells": [
  {
   "cell_type": "code",
   "execution_count": 3,
   "id": "98e900ed",
   "metadata": {},
   "outputs": [],
   "source": [
    "import geopandas as gpd\n",
    "from shapely.geometry import Point, Polygon, LineString\n",
    "import random"
   ]
  },
  {
   "cell_type": "code",
   "execution_count": 4,
   "id": "f7170dae",
   "metadata": {},
   "outputs": [],
   "source": [
    "\n",
    "\n",
    "# Create a random GeoDataFrame with line strings\n",
    "lines = []\n",
    "for i in range(5):\n",
    "    x1, y1 = random.uniform(-180, 180), random.uniform(-90, 90)\n",
    "    x2, y2 = random.uniform(-180, 180), random.uniform(-90, 90)\n",
    "    line = LineString([(x1,y1), (x2,y2)])\n",
    "    lines.append(line)\n",
    "df_lines = gpd.GeoDataFrame(geometry=lines)\n",
    "\n",
    "# Create a random GeoDataFrame with a polygon\n",
    "x1, y1 = random.uniform(-180, 180), random.uniform(-90, 90)\n",
    "x2, y2 = random.uniform(-180, 180), random.uniform(-90, 90)\n",
    "x3, y3 = random.uniform(-180, 180), random.uniform(-90, 90)\n",
    "polygon = Polygon([(x1,y1), (x2,y2), (x3,y3)])\n",
    "df_polygon = gpd.GeoDataFrame(geometry=[polygon])\n"
   ]
  },
  {
   "cell_type": "code",
   "execution_count": 5,
   "id": "ba5c1f38",
   "metadata": {},
   "outputs": [
    {
     "data": {
      "text/html": [
       "<div>\n",
       "<style scoped>\n",
       "    .dataframe tbody tr th:only-of-type {\n",
       "        vertical-align: middle;\n",
       "    }\n",
       "\n",
       "    .dataframe tbody tr th {\n",
       "        vertical-align: top;\n",
       "    }\n",
       "\n",
       "    .dataframe thead th {\n",
       "        text-align: right;\n",
       "    }\n",
       "</style>\n",
       "<table border=\"1\" class=\"dataframe\">\n",
       "  <thead>\n",
       "    <tr style=\"text-align: right;\">\n",
       "      <th></th>\n",
       "      <th>geometry</th>\n",
       "    </tr>\n",
       "  </thead>\n",
       "  <tbody>\n",
       "    <tr>\n",
       "      <th>0</th>\n",
       "      <td>LINESTRING (-112.56503 47.80860, 111.45911 31....</td>\n",
       "    </tr>\n",
       "    <tr>\n",
       "      <th>1</th>\n",
       "      <td>LINESTRING (-40.33739 79.28699, 81.21973 32.70...</td>\n",
       "    </tr>\n",
       "    <tr>\n",
       "      <th>2</th>\n",
       "      <td>LINESTRING (53.29429 -2.99954, 157.86186 4.96024)</td>\n",
       "    </tr>\n",
       "    <tr>\n",
       "      <th>3</th>\n",
       "      <td>LINESTRING (110.83063 37.89473, -58.62170 15.8...</td>\n",
       "    </tr>\n",
       "    <tr>\n",
       "      <th>4</th>\n",
       "      <td>LINESTRING (-111.93448 -22.13337, 88.51182 41....</td>\n",
       "    </tr>\n",
       "  </tbody>\n",
       "</table>\n",
       "</div>"
      ],
      "text/plain": [
       "                                            geometry\n",
       "0  LINESTRING (-112.56503 47.80860, 111.45911 31....\n",
       "1  LINESTRING (-40.33739 79.28699, 81.21973 32.70...\n",
       "2  LINESTRING (53.29429 -2.99954, 157.86186 4.96024)\n",
       "3  LINESTRING (110.83063 37.89473, -58.62170 15.8...\n",
       "4  LINESTRING (-111.93448 -22.13337, 88.51182 41...."
      ]
     },
     "execution_count": 5,
     "metadata": {},
     "output_type": "execute_result"
    }
   ],
   "source": [
    "df_lines"
   ]
  },
  {
   "cell_type": "code",
   "execution_count": 6,
   "id": "147ee7df",
   "metadata": {},
   "outputs": [
    {
     "data": {
      "text/html": [
       "<div>\n",
       "<style scoped>\n",
       "    .dataframe tbody tr th:only-of-type {\n",
       "        vertical-align: middle;\n",
       "    }\n",
       "\n",
       "    .dataframe tbody tr th {\n",
       "        vertical-align: top;\n",
       "    }\n",
       "\n",
       "    .dataframe thead th {\n",
       "        text-align: right;\n",
       "    }\n",
       "</style>\n",
       "<table border=\"1\" class=\"dataframe\">\n",
       "  <thead>\n",
       "    <tr style=\"text-align: right;\">\n",
       "      <th></th>\n",
       "      <th>geometry</th>\n",
       "    </tr>\n",
       "  </thead>\n",
       "  <tbody>\n",
       "    <tr>\n",
       "      <th>0</th>\n",
       "      <td>POLYGON ((-124.64877 35.97950, -114.35144 55.6...</td>\n",
       "    </tr>\n",
       "  </tbody>\n",
       "</table>\n",
       "</div>"
      ],
      "text/plain": [
       "                                            geometry\n",
       "0  POLYGON ((-124.64877 35.97950, -114.35144 55.6..."
      ]
     },
     "execution_count": 6,
     "metadata": {},
     "output_type": "execute_result"
    }
   ],
   "source": [
    "df_polygon"
   ]
  },
  {
   "cell_type": "code",
   "execution_count": 7,
   "id": "804bd23e",
   "metadata": {},
   "outputs": [
    {
     "name": "stdout",
     "output_type": "stream",
     "text": [
      "Distance:  5.213990461748409\n"
     ]
    }
   ],
   "source": [
    "# Get the distance between the closest line string and the polygon\n",
    "distance = df_lines.distance(df_polygon.geometry[0]).min()\n",
    "\n",
    "print(\"Distance: \", distance)"
   ]
  },
  {
   "cell_type": "code",
   "execution_count": null,
   "id": "3b2ab0e0",
   "metadata": {},
   "outputs": [],
   "source": []
  }
 ],
 "metadata": {
  "kernelspec": {
   "display_name": "Python 3 (ipykernel)",
   "language": "python",
   "name": "python3"
  },
  "language_info": {
   "codemirror_mode": {
    "name": "ipython",
    "version": 3
   },
   "file_extension": ".py",
   "mimetype": "text/x-python",
   "name": "python",
   "nbconvert_exporter": "python",
   "pygments_lexer": "ipython3",
   "version": "3.8.13"
  }
 },
 "nbformat": 4,
 "nbformat_minor": 5
}
