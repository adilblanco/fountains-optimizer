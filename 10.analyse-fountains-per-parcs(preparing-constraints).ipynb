{
 "cells": [
  {
   "cell_type": "code",
   "execution_count": 24,
   "id": "c973e6af",
   "metadata": {},
   "outputs": [],
   "source": [
    "import pandas as pd\n",
    "import geopandas as gpd\n",
    "import matplotlib.pyplot as plt\n"
   ]
  },
  {
   "cell_type": "code",
   "execution_count": 20,
   "id": "90988d27",
   "metadata": {},
   "outputs": [],
   "source": [
    "df = pd.read_csv(\"fountains-distances-join-fountains-counts.csv\")"
   ]
  },
  {
   "cell_type": "code",
   "execution_count": 21,
   "id": "f0f1a5f7",
   "metadata": {},
   "outputs": [
    {
     "data": {
      "text/html": [
       "<div>\n",
       "<style scoped>\n",
       "    .dataframe tbody tr th:only-of-type {\n",
       "        vertical-align: middle;\n",
       "    }\n",
       "\n",
       "    .dataframe tbody tr th {\n",
       "        vertical-align: top;\n",
       "    }\n",
       "\n",
       "    .dataframe thead th {\n",
       "        text-align: right;\n",
       "    }\n",
       "</style>\n",
       "<table border=\"1\" class=\"dataframe\">\n",
       "  <thead>\n",
       "    <tr style=\"text-align: right;\">\n",
       "      <th></th>\n",
       "      <th>id</th>\n",
       "      <th>nearest_rev</th>\n",
       "      <th>nearest_fountain</th>\n",
       "      <th>nearest_rvertes</th>\n",
       "      <th>nearest_pcyclable</th>\n",
       "      <th>nearest_murbain</th>\n",
       "      <th>nearest_iexterne</th>\n",
       "      <th>min_col</th>\n",
       "      <th>min_val</th>\n",
       "      <th>longitude</th>\n",
       "      <th>latitude</th>\n",
       "      <th>objectid</th>\n",
       "      <th>superficie</th>\n",
       "      <th>count</th>\n",
       "    </tr>\n",
       "  </thead>\n",
       "  <tbody>\n",
       "    <tr>\n",
       "      <th>0</th>\n",
       "      <td>1</td>\n",
       "      <td>2697.569104</td>\n",
       "      <td>48.907970</td>\n",
       "      <td>2512.295088</td>\n",
       "      <td>176.113692</td>\n",
       "      <td>2529.702004</td>\n",
       "      <td>21</td>\n",
       "      <td>nearest_iexterne</td>\n",
       "      <td>21.446787</td>\n",
       "      <td>-73.589462</td>\n",
       "      <td>45.592012</td>\n",
       "      <td>5069</td>\n",
       "      <td>11.80462</td>\n",
       "      <td>5</td>\n",
       "    </tr>\n",
       "    <tr>\n",
       "      <th>1</th>\n",
       "      <td>2</td>\n",
       "      <td>2745.451551</td>\n",
       "      <td>1.408827</td>\n",
       "      <td>2541.866572</td>\n",
       "      <td>167.330400</td>\n",
       "      <td>2495.967421</td>\n",
       "      <td>33</td>\n",
       "      <td>nearest_fountain</td>\n",
       "      <td>1.408827</td>\n",
       "      <td>-73.590055</td>\n",
       "      <td>45.592189</td>\n",
       "      <td>5069</td>\n",
       "      <td>11.80462</td>\n",
       "      <td>5</td>\n",
       "    </tr>\n",
       "    <tr>\n",
       "      <th>2</th>\n",
       "      <td>3</td>\n",
       "      <td>2744.043719</td>\n",
       "      <td>1.408827</td>\n",
       "      <td>2540.756133</td>\n",
       "      <td>167.190902</td>\n",
       "      <td>2497.152536</td>\n",
       "      <td>32</td>\n",
       "      <td>nearest_fountain</td>\n",
       "      <td>1.408827</td>\n",
       "      <td>-73.590041</td>\n",
       "      <td>45.592181</td>\n",
       "      <td>5069</td>\n",
       "      <td>11.80462</td>\n",
       "      <td>5</td>\n",
       "    </tr>\n",
       "    <tr>\n",
       "      <th>3</th>\n",
       "      <td>4</td>\n",
       "      <td>2582.406191</td>\n",
       "      <td>141.348494</td>\n",
       "      <td>2371.053545</td>\n",
       "      <td>84.592035</td>\n",
       "      <td>2670.529930</td>\n",
       "      <td>18</td>\n",
       "      <td>nearest_iexterne</td>\n",
       "      <td>18.837126</td>\n",
       "      <td>-73.589008</td>\n",
       "      <td>45.590781</td>\n",
       "      <td>5069</td>\n",
       "      <td>11.80462</td>\n",
       "      <td>5</td>\n",
       "    </tr>\n",
       "  </tbody>\n",
       "</table>\n",
       "</div>"
      ],
      "text/plain": [
       "   id  nearest_rev  nearest_fountain  nearest_rvertes  nearest_pcyclable   \n",
       "0   1  2697.569104         48.907970      2512.295088         176.113692  \\\n",
       "1   2  2745.451551          1.408827      2541.866572         167.330400   \n",
       "2   3  2744.043719          1.408827      2540.756133         167.190902   \n",
       "3   4  2582.406191        141.348494      2371.053545          84.592035   \n",
       "\n",
       "   nearest_murbain  nearest_iexterne           min_col    min_val  longitude   \n",
       "0      2529.702004                21  nearest_iexterne  21.446787 -73.589462  \\\n",
       "1      2495.967421                33  nearest_fountain   1.408827 -73.590055   \n",
       "2      2497.152536                32  nearest_fountain   1.408827 -73.590041   \n",
       "3      2670.529930                18  nearest_iexterne  18.837126 -73.589008   \n",
       "\n",
       "    latitude  objectid  superficie  count  \n",
       "0  45.592012      5069    11.80462      5  \n",
       "1  45.592189      5069    11.80462      5  \n",
       "2  45.592181      5069    11.80462      5  \n",
       "3  45.590781      5069    11.80462      5  "
      ]
     },
     "execution_count": 21,
     "metadata": {},
     "output_type": "execute_result"
    }
   ],
   "source": [
    "df.head(4)"
   ]
  },
  {
   "cell_type": "code",
   "execution_count": 22,
   "id": "82865065",
   "metadata": {},
   "outputs": [
    {
     "name": "stdout",
     "output_type": "stream",
     "text": [
      "Moyenne: 13.960604611622218\n",
      "Médiane: 3.035777555756644\n",
      "Écart-type: 37.1797335935118\n"
     ]
    }
   ],
   "source": [
    "# Calculer la moyenne, la médiane et l'écart-type des superficies\n",
    "mean = df['superficie'].mean()\n",
    "median = df['superficie'].median()\n",
    "std_dev = df['superficie'].std()\n",
    "\n",
    "# Afficher les métriques calculées\n",
    "print('Moyenne:', mean)\n",
    "print('Médiane:', median)\n",
    "print('Écart-type:', std_dev)\n"
   ]
  },
  {
   "cell_type": "code",
   "execution_count": 25,
   "id": "d943516d",
   "metadata": {},
   "outputs": [
    {
     "data": {
      "image/png": "[encoded data removed]",
      "text/plain": [
       "<Figure size 640x480 with 1 Axes>"
      ]
     },
     "metadata": {},
     "output_type": "display_data"
    }
   ],
   "source": [
    "# Générer un histogramme des superficies\n",
    "plt.hist(df['superficie'], bins=30)\n",
    "\n",
    "# Ajouter un titre et des labels d'axes\n",
    "plt.title('Distribution des superficies des parcs')\n",
    "plt.xlabel('Superficie (en hectares)')\n",
    "plt.ylabel('Fréquence')\n",
    "\n",
    "# Afficher le graphique\n",
    "plt.show()\n"
   ]
  },
  {
   "cell_type": "code",
   "execution_count": 26,
   "id": "78fb0acf",
   "metadata": {},
   "outputs": [
    {
     "data": {
      "image/png": "[encoded data removed]",
      "text/plain": [
       "<Figure size 640x480 with 1 Axes>"
      ]
     },
     "metadata": {},
     "output_type": "display_data"
    }
   ],
   "source": [
    "# Générer une boîte à moustaches des superficies\n",
    "plt.boxplot(df['superficie'])\n",
    "\n",
    "# Ajouter un titre et un label d'axe\n",
    "plt.title('Distribution des superficies des parcs')\n",
    "plt.ylabel('Superficie (en hectares)')\n",
    "\n",
    "# Afficher le graphique\n",
    "plt.show()\n"
   ]
  },
  {
   "cell_type": "code",
   "execution_count": 56,
   "id": "8a94b5a2",
   "metadata": {},
   "outputs": [
    {
     "name": "stdout",
     "output_type": "stream",
     "text": [
      "length < 1 (ha): 230\n",
      "length 1-5 (ha): 299\n",
      "length 5-10 (ha): 113\n",
      "length 10-20 (ha): 84\n",
      "length 20-100 (ha): 66\n",
      "length > 100 (ha): 31\n"
     ]
    }
   ],
   "source": [
    "print(f\"length < 1 (ha): {len(df[df['superficie'] < 1])}\")\n",
    "print(f\"length 1-5 (ha): {len(df[(df['superficie'] >= 1) & (df['superficie'] < 5)])}\")\n",
    "print(f\"length 5-10 (ha): {len(df[(df['superficie'] >= 5) & (df['superficie'] < 10)])}\")\n",
    "print(f\"length 10-20 (ha): {len(df[(df['superficie'] >= 10) & (df['superficie'] < 20)])}\")\n",
    "print(f\"length 20-100 (ha): {len(df[(df['superficie'] >= 20) & (df['superficie'] < 100)])}\")\n",
    "print(f\"length > 100 (ha): {len(df[df['superficie'] > 100])}\")"
   ]
  },
  {
   "cell_type": "code",
   "execution_count": 83,
   "id": "06c72d5d",
   "metadata": {},
   "outputs": [
    {
     "name": "stdout",
     "output_type": "stream",
     "text": [
      "categorie\n",
      "<1 ha         1.0\n",
      "1-5 ha        2.0\n",
      "5-10 ha       4.0\n",
      "10-20 ha      4.0\n",
      "20-100 ha    10.0\n",
      ">100 ha      18.0\n",
      "Name: count, dtype: float64\n"
     ]
    }
   ],
   "source": [
    "# Calcul de la dédiane du nombre de fontaines pour chaque catégorie\n",
    "median_fontaines_par_categorie = df.groupby('categorie')['count'].median().round()\n",
    "\n",
    "# Affichage des résultats\n",
    "print(median_fontaines_par_categorie)"
   ]
  },
  {
   "cell_type": "code",
   "execution_count": 85,
   "id": "5f7af52d",
   "metadata": {},
   "outputs": [
    {
     "name": "stdout",
     "output_type": "stream",
     "text": [
      "length < 1 (ha): 230\n",
      "length 1-5 (ha): 299\n",
      "length 5-20 (ha): 197\n",
      "length 20-100 (ha): 66\n",
      "length > 100 (ha): 31\n"
     ]
    }
   ],
   "source": [
    "# 5-10 ha       4.0\n",
    "# 10-20 ha      4.0\n",
    "# ces deux catégories ont la même médiane, donc on peux les combiner ensemble (5-20 ha)\n",
    "\n",
    "print(f\"length < 1 (ha): {len(df[df['superficie'] < 1])}\")\n",
    "print(f\"length 1-5 (ha): {len(df[(df['superficie'] >= 1) & (df['superficie'] < 5)])}\")\n",
    "print(f\"length 5-20 (ha): {len(df[(df['superficie'] >= 5) & (df['superficie'] < 20)])}\")\n",
    "print(f\"length 20-100 (ha): {len(df[(df['superficie'] >= 20) & (df['superficie'] < 100)])}\")\n",
    "print(f\"length > 100 (ha): {len(df[df['superficie'] > 100])}\")"
   ]
  },
  {
   "cell_type": "code",
   "execution_count": 86,
   "id": "06ffbc88",
   "metadata": {},
   "outputs": [],
   "source": [
    "# # Définition des intervalles de catégories\n",
    "# bins = [0, 1, 5, 10, 20, 100, float('inf')]\n",
    "\n",
    "# # Définition des étiquettes de catégories\n",
    "# labels = ['<1 ha', '1-5 ha', '5-10 ha', '10-20 ha', '20-100 ha', '>100 ha']\n",
    "\n",
    "bins = [0, 1, 5, 20, 100, float('inf')]\n",
    "labels = ['< 1', '1-5', '5-20', '20-100', '> 100']\n",
    "\n",
    "# Ajout d'une colonne 'categorie' au DataFrame pour stocker la catégorie de chaque superficie\n",
    "df['categorie'] = pd.cut(df['superficie'], bins=bins, labels=labels)"
   ]
  },
  {
   "cell_type": "code",
   "execution_count": 87,
   "id": "09b6edf6",
   "metadata": {},
   "outputs": [
    {
     "data": {
      "text/html": [
       "<div>\n",
       "<style scoped>\n",
       "    .dataframe tbody tr th:only-of-type {\n",
       "        vertical-align: middle;\n",
       "    }\n",
       "\n",
       "    .dataframe tbody tr th {\n",
       "        vertical-align: top;\n",
       "    }\n",
       "\n",
       "    .dataframe thead th {\n",
       "        text-align: right;\n",
       "    }\n",
       "</style>\n",
       "<table border=\"1\" class=\"dataframe\">\n",
       "  <thead>\n",
       "    <tr style=\"text-align: right;\">\n",
       "      <th></th>\n",
       "      <th>id</th>\n",
       "      <th>nearest_rev</th>\n",
       "      <th>nearest_fountain</th>\n",
       "      <th>nearest_rvertes</th>\n",
       "      <th>nearest_pcyclable</th>\n",
       "      <th>nearest_murbain</th>\n",
       "      <th>nearest_iexterne</th>\n",
       "      <th>min_col</th>\n",
       "      <th>min_val</th>\n",
       "      <th>longitude</th>\n",
       "      <th>latitude</th>\n",
       "      <th>objectid</th>\n",
       "      <th>superficie</th>\n",
       "      <th>count</th>\n",
       "      <th>categorie</th>\n",
       "    </tr>\n",
       "  </thead>\n",
       "  <tbody>\n",
       "    <tr>\n",
       "      <th>0</th>\n",
       "      <td>1</td>\n",
       "      <td>2697.569104</td>\n",
       "      <td>48.907970</td>\n",
       "      <td>2512.295088</td>\n",
       "      <td>176.113692</td>\n",
       "      <td>2529.702004</td>\n",
       "      <td>21</td>\n",
       "      <td>nearest_iexterne</td>\n",
       "      <td>21.446787</td>\n",
       "      <td>-73.589462</td>\n",
       "      <td>45.592012</td>\n",
       "      <td>5069</td>\n",
       "      <td>11.804620</td>\n",
       "      <td>5</td>\n",
       "      <td>5-20</td>\n",
       "    </tr>\n",
       "    <tr>\n",
       "      <th>1</th>\n",
       "      <td>2</td>\n",
       "      <td>2745.451551</td>\n",
       "      <td>1.408827</td>\n",
       "      <td>2541.866572</td>\n",
       "      <td>167.330400</td>\n",
       "      <td>2495.967421</td>\n",
       "      <td>33</td>\n",
       "      <td>nearest_fountain</td>\n",
       "      <td>1.408827</td>\n",
       "      <td>-73.590055</td>\n",
       "      <td>45.592189</td>\n",
       "      <td>5069</td>\n",
       "      <td>11.804620</td>\n",
       "      <td>5</td>\n",
       "      <td>5-20</td>\n",
       "    </tr>\n",
       "    <tr>\n",
       "      <th>2</th>\n",
       "      <td>3</td>\n",
       "      <td>2744.043719</td>\n",
       "      <td>1.408827</td>\n",
       "      <td>2540.756133</td>\n",
       "      <td>167.190902</td>\n",
       "      <td>2497.152536</td>\n",
       "      <td>32</td>\n",
       "      <td>nearest_fountain</td>\n",
       "      <td>1.408827</td>\n",
       "      <td>-73.590041</td>\n",
       "      <td>45.592181</td>\n",
       "      <td>5069</td>\n",
       "      <td>11.804620</td>\n",
       "      <td>5</td>\n",
       "      <td>5-20</td>\n",
       "    </tr>\n",
       "    <tr>\n",
       "      <th>3</th>\n",
       "      <td>4</td>\n",
       "      <td>2582.406191</td>\n",
       "      <td>141.348494</td>\n",
       "      <td>2371.053545</td>\n",
       "      <td>84.592035</td>\n",
       "      <td>2670.529930</td>\n",
       "      <td>18</td>\n",
       "      <td>nearest_iexterne</td>\n",
       "      <td>18.837126</td>\n",
       "      <td>-73.589008</td>\n",
       "      <td>45.590781</td>\n",
       "      <td>5069</td>\n",
       "      <td>11.804620</td>\n",
       "      <td>5</td>\n",
       "      <td>5-20</td>\n",
       "    </tr>\n",
       "    <tr>\n",
       "      <th>4</th>\n",
       "      <td>5</td>\n",
       "      <td>2864.119220</td>\n",
       "      <td>126.598086</td>\n",
       "      <td>2456.527385</td>\n",
       "      <td>79.330947</td>\n",
       "      <td>2419.307259</td>\n",
       "      <td>29</td>\n",
       "      <td>nearest_iexterne</td>\n",
       "      <td>29.983704</td>\n",
       "      <td>-73.591582</td>\n",
       "      <td>45.592574</td>\n",
       "      <td>5069</td>\n",
       "      <td>11.804620</td>\n",
       "      <td>5</td>\n",
       "      <td>5-20</td>\n",
       "    </tr>\n",
       "    <tr>\n",
       "      <th>5</th>\n",
       "      <td>6</td>\n",
       "      <td>3534.705795</td>\n",
       "      <td>27.573425</td>\n",
       "      <td>1804.390143</td>\n",
       "      <td>117.454592</td>\n",
       "      <td>1886.561243</td>\n",
       "      <td>33</td>\n",
       "      <td>nearest_fountain</td>\n",
       "      <td>27.573425</td>\n",
       "      <td>-73.598465</td>\n",
       "      <td>45.596198</td>\n",
       "      <td>5009</td>\n",
       "      <td>6.550266</td>\n",
       "      <td>2</td>\n",
       "      <td>5-20</td>\n",
       "    </tr>\n",
       "    <tr>\n",
       "      <th>6</th>\n",
       "      <td>7</td>\n",
       "      <td>3507.149861</td>\n",
       "      <td>27.573425</td>\n",
       "      <td>1830.292244</td>\n",
       "      <td>125.924980</td>\n",
       "      <td>1908.962793</td>\n",
       "      <td>22</td>\n",
       "      <td>nearest_iexterne</td>\n",
       "      <td>22.679090</td>\n",
       "      <td>-73.598198</td>\n",
       "      <td>45.596035</td>\n",
       "      <td>5009</td>\n",
       "      <td>6.550266</td>\n",
       "      <td>2</td>\n",
       "      <td>5-20</td>\n",
       "    </tr>\n",
       "    <tr>\n",
       "      <th>7</th>\n",
       "      <td>8</td>\n",
       "      <td>3669.838151</td>\n",
       "      <td>73.121037</td>\n",
       "      <td>1413.608266</td>\n",
       "      <td>17.997478</td>\n",
       "      <td>2520.888872</td>\n",
       "      <td>14</td>\n",
       "      <td>nearest_iexterne</td>\n",
       "      <td>14.328401</td>\n",
       "      <td>-73.605997</td>\n",
       "      <td>45.590096</td>\n",
       "      <td>5029</td>\n",
       "      <td>7.707700</td>\n",
       "      <td>4</td>\n",
       "      <td>5-20</td>\n",
       "    </tr>\n",
       "    <tr>\n",
       "      <th>8</th>\n",
       "      <td>9</td>\n",
       "      <td>3633.569132</td>\n",
       "      <td>73.121037</td>\n",
       "      <td>1359.185286</td>\n",
       "      <td>79.001852</td>\n",
       "      <td>2593.969774</td>\n",
       "      <td>29</td>\n",
       "      <td>nearest_iexterne</td>\n",
       "      <td>29.385897</td>\n",
       "      <td>-73.606028</td>\n",
       "      <td>45.589438</td>\n",
       "      <td>5029</td>\n",
       "      <td>7.707700</td>\n",
       "      <td>4</td>\n",
       "      <td>5-20</td>\n",
       "    </tr>\n",
       "    <tr>\n",
       "      <th>9</th>\n",
       "      <td>10</td>\n",
       "      <td>3665.119453</td>\n",
       "      <td>1.275940</td>\n",
       "      <td>1286.954598</td>\n",
       "      <td>90.910563</td>\n",
       "      <td>2638.840073</td>\n",
       "      <td>12</td>\n",
       "      <td>nearest_fountain</td>\n",
       "      <td>1.275940</td>\n",
       "      <td>-73.606822</td>\n",
       "      <td>45.589075</td>\n",
       "      <td>5029</td>\n",
       "      <td>7.707700</td>\n",
       "      <td>4</td>\n",
       "      <td>5-20</td>\n",
       "    </tr>\n",
       "  </tbody>\n",
       "</table>\n",
       "</div>"
      ],
      "text/plain": [
       "   id  nearest_rev  nearest_fountain  nearest_rvertes  nearest_pcyclable   \n",
       "0   1  2697.569104         48.907970      2512.295088         176.113692  \\\n",
       "1   2  2745.451551          1.408827      2541.866572         167.330400   \n",
       "2   3  2744.043719          1.408827      2540.756133         167.190902   \n",
       "3   4  2582.406191        141.348494      2371.053545          84.592035   \n",
       "4   5  2864.119220        126.598086      2456.527385          79.330947   \n",
       "5   6  3534.705795         27.573425      1804.390143         117.454592   \n",
       "6   7  3507.149861         27.573425      1830.292244         125.924980   \n",
       "7   8  3669.838151         73.121037      1413.608266          17.997478   \n",
       "8   9  3633.569132         73.121037      1359.185286          79.001852   \n",
       "9  10  3665.119453          1.275940      1286.954598          90.910563   \n",
       "\n",
       "   nearest_murbain  nearest_iexterne           min_col    min_val  longitude   \n",
       "0      2529.702004                21  nearest_iexterne  21.446787 -73.589462  \\\n",
       "1      2495.967421                33  nearest_fountain   1.408827 -73.590055   \n",
       "2      2497.152536                32  nearest_fountain   1.408827 -73.590041   \n",
       "3      2670.529930                18  nearest_iexterne  18.837126 -73.589008   \n",
       "4      2419.307259                29  nearest_iexterne  29.983704 -73.591582   \n",
       "5      1886.561243                33  nearest_fountain  27.573425 -73.598465   \n",
       "6      1908.962793                22  nearest_iexterne  22.679090 -73.598198   \n",
       "7      2520.888872                14  nearest_iexterne  14.328401 -73.605997   \n",
       "8      2593.969774                29  nearest_iexterne  29.385897 -73.606028   \n",
       "9      2638.840073                12  nearest_fountain   1.275940 -73.606822   \n",
       "\n",
       "    latitude  objectid  superficie  count categorie  \n",
       "0  45.592012      5069   11.804620      5      5-20  \n",
       "1  45.592189      5069   11.804620      5      5-20  \n",
       "2  45.592181      5069   11.804620      5      5-20  \n",
       "3  45.590781      5069   11.804620      5      5-20  \n",
       "4  45.592574      5069   11.804620      5      5-20  \n",
       "5  45.596198      5009    6.550266      2      5-20  \n",
       "6  45.596035      5009    6.550266      2      5-20  \n",
       "7  45.590096      5029    7.707700      4      5-20  \n",
       "8  45.589438      5029    7.707700      4      5-20  \n",
       "9  45.589075      5029    7.707700      4      5-20  "
      ]
     },
     "execution_count": 87,
     "metadata": {},
     "output_type": "execute_result"
    }
   ],
   "source": [
    "df.head(10)"
   ]
  },
  {
   "cell_type": "code",
   "execution_count": 88,
   "id": "5410641e",
   "metadata": {},
   "outputs": [
    {
     "data": {
      "image/png": "[encoded data removed]",
      "text/plain": [
       "<Figure size 640x480 with 1 Axes>"
      ]
     },
     "metadata": {},
     "output_type": "display_data"
    },
    {
     "name": "stdout",
     "output_type": "stream",
     "text": [
      "count    823.000000\n",
      "mean       3.359660\n",
      "std        3.600409\n",
      "min        1.000000\n",
      "25%        1.000000\n",
      "50%        2.000000\n",
      "75%        4.000000\n",
      "max       18.000000\n",
      "Name: count, dtype: float64\n"
     ]
    }
   ],
   "source": [
    "# Calculer les statistiques descriptives du nombre de fontaines par parc\n",
    "stats = df['count'].describe()\n",
    "\n",
    "# Créer un diagramme en boîte du nombre de fontaines par parc\n",
    "plt.boxplot(df['count'])\n",
    "plt.ylabel('Nombre de fontaines')\n",
    "plt.title('Distribution du nombre de fontaines par parc')\n",
    "plt.show()\n",
    "\n",
    "# Calculer les statistiques descriptives du nombre de fontaines par parc\n",
    "stats = df['count'].describe()\n",
    "print(stats)"
   ]
  },
  {
   "cell_type": "code",
   "execution_count": 89,
   "id": "4d29c53b",
   "metadata": {},
   "outputs": [
    {
     "data": {
      "image/png": "[encoded data removed]",
      "text/plain": [
       "<Figure size 640x480 with 1 Axes>"
      ]
     },
     "metadata": {},
     "output_type": "display_data"
    }
   ],
   "source": [
    "import matplotlib.pyplot as plt\n",
    "\n",
    "# Calcul du nombre de parcs pour chaque nombre de fontaines\n",
    "counts = df[\"count\"].value_counts()\n",
    "\n",
    "# Création du graphe en barres horizontal\n",
    "plt.barh(counts.index, counts.values)\n",
    "\n",
    "# Ajout de labels et titres\n",
    "plt.xlabel(\"Nombre de parcs\")\n",
    "plt.ylabel(\"Nombre de fontaines\")\n",
    "plt.title(\"Nombre de fontaines\")\n",
    "plt.show()"
   ]
  },
  {
   "cell_type": "code",
   "execution_count": 90,
   "id": "c8891f64",
   "metadata": {},
   "outputs": [
    {
     "name": "stdout",
     "output_type": "stream",
     "text": [
      "categorie\n",
      "< 1        1.121739\n",
      "1-5        2.150502\n",
      "5-20       4.502538\n",
      "20-100     9.181818\n",
      "> 100     11.967742\n",
      "Name: count, dtype: float64\n"
     ]
    }
   ],
   "source": [
    "pd.set_option('display.max_rows', None)\n",
    "\n",
    "\n",
    "# Calcul de la moyenne du nombre de fontaines pour chaque catégorie\n",
    "mean_fontaines_par_categorie = df.groupby('categorie')['count'].mean()\n",
    "\n",
    "# Affichage des résultats\n",
    "print(mean_fontaines_par_categorie)\n"
   ]
  },
  {
   "cell_type": "code",
   "execution_count": 91,
   "id": "e65767f9",
   "metadata": {},
   "outputs": [
    {
     "name": "stdout",
     "output_type": "stream",
     "text": [
      "categorie\n",
      "< 1        1.0\n",
      "1-5        2.0\n",
      "5-20       5.0\n",
      "20-100     9.0\n",
      "> 100     12.0\n",
      "Name: count, dtype: float64\n"
     ]
    }
   ],
   "source": [
    "# Calcul de la moyenne du nombre de fontaines pour chaque catégorie\n",
    "mean_fontaines_par_categorie = df.groupby('categorie')['count'].mean().round()\n",
    "\n",
    "# Affichage des résultats\n",
    "print(mean_fontaines_par_categorie)"
   ]
  },
  {
   "cell_type": "code",
   "execution_count": 92,
   "id": "188afccd",
   "metadata": {},
   "outputs": [
    {
     "name": "stdout",
     "output_type": "stream",
     "text": [
      "categorie\n",
      "< 1        1.0\n",
      "1-5        2.0\n",
      "5-20       4.0\n",
      "20-100    10.0\n",
      "> 100     18.0\n",
      "Name: count, dtype: float64\n"
     ]
    }
   ],
   "source": [
    "# Calcul de la dédiane du nombre de fontaines pour chaque catégorie\n",
    "median_fontaines_par_categorie = df.groupby('categorie')['count'].median().round()\n",
    "\n",
    "# Affichage des résultats\n",
    "print(median_fontaines_par_categorie)"
   ]
  },
  {
   "cell_type": "code",
   "execution_count": null,
   "id": "2e880a43",
   "metadata": {},
   "outputs": [],
   "source": []
  }
 ],
 "metadata": {
  "kernelspec": {
   "display_name": "Python 3 (ipykernel)",
   "language": "python",
   "name": "python3"
  },
  "language_info": {
   "codemirror_mode": {
    "name": "ipython",
    "version": 3
   },
   "file_extension": ".py",
   "mimetype": "text/x-python",
   "name": "python",
   "nbconvert_exporter": "python",
   "pygments_lexer": "ipython3",
   "version": "3.8.13"
  }
 },
 "nbformat": 4,
 "nbformat_minor": 5
}
