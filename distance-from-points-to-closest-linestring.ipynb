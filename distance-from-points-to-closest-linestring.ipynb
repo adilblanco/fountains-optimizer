{
 "cells": [
  {
   "cell_type": "code",
   "execution_count": 2,
   "id": "9b42eb0d",
   "metadata": {},
   "outputs": [],
   "source": [
    "import geopandas as gpd\n",
    "from shapely.geometry import Point, LineString\n",
    "import numpy as np\n"
   ]
  },
  {
   "cell_type": "code",
   "execution_count": 3,
   "id": "be71ab2a",
   "metadata": {},
   "outputs": [],
   "source": [
    "# Create random GeoDataFrames with points and linestrings\n",
    "points = gpd.GeoDataFrame(geometry=[Point(np.random.uniform(-10, 10, 2)) for i in range(10)])\n",
    "linestrings = gpd.GeoDataFrame(geometry=[LineString(np.random.uniform(-10, 10, (2, 2))) for i in range(5)])"
   ]
  },
  {
   "cell_type": "code",
   "execution_count": 4,
   "id": "0328d463",
   "metadata": {},
   "outputs": [
    {
     "data": {
      "text/html": [
       "<div>\n",
       "<style scoped>\n",
       "    .dataframe tbody tr th:only-of-type {\n",
       "        vertical-align: middle;\n",
       "    }\n",
       "\n",
       "    .dataframe tbody tr th {\n",
       "        vertical-align: top;\n",
       "    }\n",
       "\n",
       "    .dataframe thead th {\n",
       "        text-align: right;\n",
       "    }\n",
       "</style>\n",
       "<table border=\"1\" class=\"dataframe\">\n",
       "  <thead>\n",
       "    <tr style=\"text-align: right;\">\n",
       "      <th></th>\n",
       "      <th>geometry</th>\n",
       "    </tr>\n",
       "  </thead>\n",
       "  <tbody>\n",
       "    <tr>\n",
       "      <th>0</th>\n",
       "      <td>POINT (-1.51616 5.69411)</td>\n",
       "    </tr>\n",
       "    <tr>\n",
       "      <th>1</th>\n",
       "      <td>POINT (-4.88151 -5.95655)</td>\n",
       "    </tr>\n",
       "    <tr>\n",
       "      <th>2</th>\n",
       "      <td>POINT (-9.36674 -0.56244)</td>\n",
       "    </tr>\n",
       "    <tr>\n",
       "      <th>3</th>\n",
       "      <td>POINT (8.13324 -7.50023)</td>\n",
       "    </tr>\n",
       "    <tr>\n",
       "      <th>4</th>\n",
       "      <td>POINT (6.11649 0.70741)</td>\n",
       "    </tr>\n",
       "    <tr>\n",
       "      <th>5</th>\n",
       "      <td>POINT (2.95827 -2.71767)</td>\n",
       "    </tr>\n",
       "    <tr>\n",
       "      <th>6</th>\n",
       "      <td>POINT (5.67769 7.56018)</td>\n",
       "    </tr>\n",
       "    <tr>\n",
       "      <th>7</th>\n",
       "      <td>POINT (4.97302 -5.22597)</td>\n",
       "    </tr>\n",
       "    <tr>\n",
       "      <th>8</th>\n",
       "      <td>POINT (5.22994 3.15627)</td>\n",
       "    </tr>\n",
       "    <tr>\n",
       "      <th>9</th>\n",
       "      <td>POINT (9.28821 8.42002)</td>\n",
       "    </tr>\n",
       "  </tbody>\n",
       "</table>\n",
       "</div>"
      ],
      "text/plain": [
       "                    geometry\n",
       "0   POINT (-1.51616 5.69411)\n",
       "1  POINT (-4.88151 -5.95655)\n",
       "2  POINT (-9.36674 -0.56244)\n",
       "3   POINT (8.13324 -7.50023)\n",
       "4    POINT (6.11649 0.70741)\n",
       "5   POINT (2.95827 -2.71767)\n",
       "6    POINT (5.67769 7.56018)\n",
       "7   POINT (4.97302 -5.22597)\n",
       "8    POINT (5.22994 3.15627)\n",
       "9    POINT (9.28821 8.42002)"
      ]
     },
     "execution_count": 4,
     "metadata": {},
     "output_type": "execute_result"
    }
   ],
   "source": [
    "points"
   ]
  },
  {
   "cell_type": "code",
   "execution_count": 5,
   "id": "685d5e30",
   "metadata": {},
   "outputs": [
    {
     "data": {
      "text/html": [
       "<div>\n",
       "<style scoped>\n",
       "    .dataframe tbody tr th:only-of-type {\n",
       "        vertical-align: middle;\n",
       "    }\n",
       "\n",
       "    .dataframe tbody tr th {\n",
       "        vertical-align: top;\n",
       "    }\n",
       "\n",
       "    .dataframe thead th {\n",
       "        text-align: right;\n",
       "    }\n",
       "</style>\n",
       "<table border=\"1\" class=\"dataframe\">\n",
       "  <thead>\n",
       "    <tr style=\"text-align: right;\">\n",
       "      <th></th>\n",
       "      <th>geometry</th>\n",
       "    </tr>\n",
       "  </thead>\n",
       "  <tbody>\n",
       "    <tr>\n",
       "      <th>0</th>\n",
       "      <td>LINESTRING (-3.27618 -4.94576, 3.50127 -8.31829)</td>\n",
       "    </tr>\n",
       "    <tr>\n",
       "      <th>1</th>\n",
       "      <td>LINESTRING (-9.19848 9.55637, 4.72649 -2.20440)</td>\n",
       "    </tr>\n",
       "    <tr>\n",
       "      <th>2</th>\n",
       "      <td>LINESTRING (8.62667 -6.63876, 9.43958 7.70296)</td>\n",
       "    </tr>\n",
       "    <tr>\n",
       "      <th>3</th>\n",
       "      <td>LINESTRING (-0.20029 8.54727, 4.22241 -7.06571)</td>\n",
       "    </tr>\n",
       "    <tr>\n",
       "      <th>4</th>\n",
       "      <td>LINESTRING (-0.68630 -1.70736, -9.85208 -6.13855)</td>\n",
       "    </tr>\n",
       "  </tbody>\n",
       "</table>\n",
       "</div>"
      ],
      "text/plain": [
       "                                            geometry\n",
       "0   LINESTRING (-3.27618 -4.94576, 3.50127 -8.31829)\n",
       "1    LINESTRING (-9.19848 9.55637, 4.72649 -2.20440)\n",
       "2     LINESTRING (8.62667 -6.63876, 9.43958 7.70296)\n",
       "3    LINESTRING (-0.20029 8.54727, 4.22241 -7.06571)\n",
       "4  LINESTRING (-0.68630 -1.70736, -9.85208 -6.13855)"
      ]
     },
     "execution_count": 5,
     "metadata": {},
     "output_type": "execute_result"
    }
   ],
   "source": [
    "linestrings"
   ]
  },
  {
   "cell_type": "code",
   "execution_count": 6,
   "id": "7b2701c5",
   "metadata": {},
   "outputs": [],
   "source": [
    "# Calculate distance from each point to the closest linestring\n",
    "def distance_to_closest_linestring(point, linestrings):\n",
    "    return linestrings.distance(point).min()"
   ]
  },
  {
   "cell_type": "code",
   "execution_count": 7,
   "id": "60cdcb8c",
   "metadata": {},
   "outputs": [
    {
     "name": "stdout",
     "output_type": "stream",
     "text": [
      "                    geometry  distance\n",
      "0   POINT (-1.51616 5.69411)  2.006265\n",
      "1  POINT (-4.88151 -5.95655)  1.897038\n",
      "2  POINT (-9.36674 -0.56244)  4.808970\n",
      "3   POINT (8.13324 -7.50023)  0.992774\n",
      "4    POINT (6.11649 0.70741)  2.921877\n",
      "5   POINT (2.95827 -2.71767)  0.031236\n",
      "6    POINT (5.67769 7.56018)  3.747782\n",
      "7   POINT (4.97302 -5.22597)  1.223615\n",
      "8    POINT (5.22994 3.15627)  3.755362\n",
      "9    POINT (9.28821 8.42002)  0.732864\n"
     ]
    }
   ],
   "source": [
    "points['distance'] = points.geometry.apply(distance_to_closest_linestring, args=(linestrings,))\n",
    "\n",
    "print(points)"
   ]
  },
  {
   "cell_type": "code",
   "execution_count": null,
   "id": "fcb40bf4",
   "metadata": {},
   "outputs": [],
   "source": []
  },
  {
   "cell_type": "code",
   "execution_count": null,
   "id": "339f0209",
   "metadata": {},
   "outputs": [],
   "source": []
  },
  {
   "cell_type": "code",
   "execution_count": null,
   "id": "61a2b6d7",
   "metadata": {},
   "outputs": [],
   "source": []
  }
 ],
 "metadata": {
  "kernelspec": {
   "display_name": "Python 3 (ipykernel)",
   "language": "python",
   "name": "python3"
  },
  "language_info": {
   "codemirror_mode": {
    "name": "ipython",
    "version": 3
   },
   "file_extension": ".py",
   "mimetype": "text/x-python",
   "name": "python",
   "nbconvert_exporter": "python",
   "pygments_lexer": "ipython3",
   "version": "3.8.13"
  }
 },
 "nbformat": 4,
 "nbformat_minor": 5
}
