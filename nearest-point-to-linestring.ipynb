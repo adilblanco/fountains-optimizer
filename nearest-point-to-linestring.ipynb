{
 "cells": [
  {
   "cell_type": "code",
   "execution_count": 2,
   "id": "893a75bf",
   "metadata": {},
   "outputs": [],
   "source": [
    "import os\n",
    "import math\n",
    "import folium\n",
    "import numpy as np\n",
    "import pandas as pd\n",
    "import geopandas as gpd\n",
    "import matplotlib.pyplot as plt\n",
    "from shapely.geometry import Polygon\n",
    "\n",
    "from utils import *"
   ]
  },
  {
   "cell_type": "code",
   "execution_count": 25,
   "id": "3dea8cc6",
   "metadata": {},
   "outputs": [],
   "source": [
    "fontaines_gdf = gpd.read_file(\"fontaines.geojson\")\n",
    "parcs_gdf = gpd.read_file(\"parcs.geojson\")\n",
    "bikes_gdf = gpd.read_file(\"bike.geojson\")"
   ]
  },
  {
   "cell_type": "code",
   "execution_count": 8,
   "id": "01d48670",
   "metadata": {},
   "outputs": [],
   "source": [
    "fontaines = fontaines_gdf[fontaines_gdf[\"nom_parc_lieu\"]==\"du Mont-Royal\"]"
   ]
  },
  {
   "cell_type": "code",
   "execution_count": 9,
   "id": "a441afcc",
   "metadata": {},
   "outputs": [],
   "source": [
    "parcs = parcs_gdf[parcs_gdf[\"objectid\"]==\"5629\"]"
   ]
  },
  {
   "cell_type": "code",
   "execution_count": 19,
   "id": "f6a1570d",
   "metadata": {},
   "outputs": [
    {
     "name": "stdout",
     "output_type": "stream",
     "text": [
      "[(1, 1, 1), (1, -1, -1), (1, 1, -1), (1, -1, 1)]\n"
     ]
    }
   ],
   "source": [
    "from constraint import *\n",
    "\n",
    "# Define the minimum distance between points\n",
    "min_distance = 0.5\n",
    "\n",
    "# Define the function to compute the Euclidean distance between two points\n",
    "def distance(point1, point2):\n",
    "    return ((point1[0] - point2[0])**2 + (point1[1] - point2[1])**2 + (point1[2] - point2[2])**2)**0.5\n",
    "\n",
    "# Define the problem\n",
    "problem = Problem()\n",
    "\n",
    "# Add variables for each point\n",
    "for i in range(len(points)):\n",
    "    problem.addVariables([f'x_{i}', f'y_{i}', f'z_{i}'], domain=(-1, 1))\n",
    "\n",
    "# Add constraints to enforce minimum distance between each pair of points\n",
    "for i in range(len(points)):\n",
    "    for j in range(i+1, len(points)):\n",
    "        problem.addConstraint(lambda x1, y1, z1, x2, y2, z2: distance((x1, y1, z1), (x2, y2, z2)) >= min_distance, \n",
    "                              [f'x_{i}', f'y_{i}', f'z_{i}', f'x_{j}', f'y_{j}', f'z_{j}'])\n",
    "\n",
    "# Solve the problem\n",
    "solutions = problem.getSolutions()\n",
    "\n",
    "# Get the best solution\n",
    "best_solution = min(solutions, key=lambda x: sum([(x[f'x_{i}'] - points[i][0])**2 + (x[f'y_{i}'] - points[i][1])**2 + (x[f'z_{i}'] - points[i][2])**2 for i in range(len(points))]))\n",
    "\n",
    "# Print the result\n",
    "points_adjusted = [(best_solution[f'x_{i}'], best_solution[f'y_{i}'], best_solution[f'z_{i}']) for i in range(len(points))]\n",
    "print(points_adjusted)\n"
   ]
  },
  {
   "cell_type": "code",
   "execution_count": 23,
   "id": "f6cca215",
   "metadata": {},
   "outputs": [
    {
     "name": "stdout",
     "output_type": "stream",
     "text": [
      "4.217389047629202\n"
     ]
    }
   ],
   "source": [
    "from shapely.geometry import Point, LineString\n",
    "from geopy.distance import geodesic\n",
    "\n",
    "# Coordonnées du point de référence\n",
    "point = Point(-73.935242, 40.730610)\n",
    "\n",
    "# Coordonnées du linestring\n",
    "linestring = LineString([\n",
    "    (-73.983512, 40.760282),\n",
    "    (-73.975588, 40.756057),\n",
    "    (-73.966392, 40.757947),\n",
    "    (-73.955790, 40.767303),\n",
    "    (-73.943412, 40.768076)\n",
    "])\n",
    "\n",
    "# Trouver le point le plus proche du linestring\n",
    "nearest_point = linestring.interpolate(linestring.project(point))\n",
    "\n",
    "# Calculer la distance Haversine entre le point et le point le plus proche\n",
    "distance = geodesic((point.y, point.x), (nearest_point.y, nearest_point.x)).km\n",
    "\n",
    "# Afficher la distance résultante\n",
    "print(distance)\n"
   ]
  },
  {
   "cell_type": "code",
   "execution_count": 24,
   "id": "8ca3f611",
   "metadata": {},
   "outputs": [
    {
     "name": "stdout",
     "output_type": "stream",
     "text": [
      "LINESTRING (-73.97833522429573 40.75752179336818, -73.975588 40.756057, -73.966392 40.757947, -73.96259109055482 40.76130120758055)\n"
     ]
    }
   ],
   "source": [
    "from shapely.geometry import LineString, Polygon\n",
    "\n",
    "# Coordonnées du linestring\n",
    "linestring = LineString([\n",
    "    (-73.983512, 40.760282),\n",
    "    (-73.975588, 40.756057),\n",
    "    (-73.966392, 40.757947),\n",
    "    (-73.955790, 40.767303),\n",
    "    (-73.943412, 40.768076),\n",
    "    (-73.935242, 40.730610),\n",
    "    (-73.927073, 40.693144)\n",
    "])\n",
    "\n",
    "# Coordonnées du polygon\n",
    "polygon = Polygon([\n",
    "    (-73.977851, 40.763338),\n",
    "    (-73.978729, 40.752792),\n",
    "    (-73.962345, 40.748822),\n",
    "    (-73.959255, 40.755845),\n",
    "    (-73.960618, 40.757829),\n",
    "    (-73.961981, 40.760825),\n",
    "    (-73.965385, 40.763482)\n",
    "])\n",
    "\n",
    "# Extraire la partie du linestring qui se trouve dans le polygon\n",
    "intersection = linestring.intersection(polygon)\n",
    "\n",
    "# Afficher le résultat\n",
    "print(intersection)\n"
   ]
  },
  {
   "cell_type": "code",
   "execution_count": null,
   "id": "58bac03c",
   "metadata": {},
   "outputs": [],
   "source": []
  },
  {
   "cell_type": "code",
   "execution_count": null,
   "id": "ebae6437",
   "metadata": {},
   "outputs": [],
   "source": []
  }
 ],
 "metadata": {
  "kernelspec": {
   "display_name": "Python 3 (ipykernel)",
   "language": "python",
   "name": "python3"
  },
  "language_info": {
   "codemirror_mode": {
    "name": "ipython",
    "version": 3
   },
   "file_extension": ".py",
   "mimetype": "text/x-python",
   "name": "python",
   "nbconvert_exporter": "python",
   "pygments_lexer": "ipython3",
   "version": "3.8.13"
  }
 },
 "nbformat": 4,
 "nbformat_minor": 5
}
