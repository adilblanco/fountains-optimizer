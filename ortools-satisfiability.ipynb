{
 "cells": [
  {
   "cell_type": "raw",
   "id": "9a9f872b",
   "metadata": {},
   "source": [
    "1. Satisfiabilité : le but est de trouver une ou plusieurs solutions réalisables (c'est-à-dire des solutions qui respectent nos contraintes) en réduisant un large éventail de solutions potentielles ;"
   ]
  },
  {
   "cell_type": "code",
   "execution_count": 2,
   "id": "e1492ade",
   "metadata": {},
   "outputs": [],
   "source": [
    "# https://mlabonne.github.io/blog/constraintprogramming/\n",
    "\n",
    "from ortools.sat.python import cp_model\n",
    "\n",
    "# Instantiate model and solver\n",
    "model = cp_model.CpModel()\n",
    "solver = cp_model.CpSolver()"
   ]
  },
  {
   "cell_type": "code",
   "execution_count": 6,
   "id": "ec7ac7e7",
   "metadata": {},
   "outputs": [],
   "source": [
    "# varaiable\n",
    "army = model.NewIntVar(1, 10000, 'army')"
   ]
  },
  {
   "cell_type": "code",
   "execution_count": 7,
   "id": "90e617e0",
   "metadata": {},
   "outputs": [
    {
     "data": {
      "text/plain": [
       "<ortools.sat.python.cp_model.Constraint at 0x10d8161c0>"
      ]
     },
     "execution_count": 7,
     "metadata": {},
     "output_type": "execute_result"
    }
   ],
   "source": [
    "# constraints\n",
    "# variable % mod = target → (target, variable, mod)\n",
    "model.AddModuloEquality(0, army, 13)\n",
    "model.AddModuloEquality(0, army, 19)\n",
    "model.AddModuloEquality(0, army, 37)"
   ]
  },
  {
   "cell_type": "raw",
   "id": "4dff925e",
   "metadata": {},
   "source": [
    "there is nothing to optimize! We just want to find a feasible solution that satisfies our constraints, but there is no \"good\" or \"bad\" answers. This is a key feature of Constraint Programming."
   ]
  },
  {
   "cell_type": "code",
   "execution_count": 8,
   "id": "14a5ed4e",
   "metadata": {},
   "outputs": [
    {
     "name": "stdout",
     "output_type": "stream",
     "text": [
      "================= Solution =================\n",
      "Solved in 0.01 milliseconds\n",
      "\n",
      "🪖 Army = 9139\n",
      "\n",
      "Check solution:\n",
      " - Constraint 1: 9139 % 13 = 0\n",
      " - Constraint 2: 9139 % 19 = 0\n",
      " - Constraint 3: 9139 % 37 = 0\n"
     ]
    }
   ],
   "source": [
    "status = solver.Solve(model)\n",
    "\n",
    "# If a solution has been found, print results\n",
    "if status == cp_model.OPTIMAL or status == cp_model.FEASIBLE:\n",
    "    print('================= Solution =================')\n",
    "    print(f'Solved in {solver.WallTime():.2f} milliseconds')\n",
    "    print()\n",
    "    print(f'🪖 Army = {solver.Value(army)}')\n",
    "    print()\n",
    "    print('Check solution:')\n",
    "    print(f' - Constraint 1: {solver.Value(army)} % 13 = {solver.Value(army) % 13}')\n",
    "    print(f' - Constraint 2: {solver.Value(army)} % 19 = {solver.Value(army) % 19}')\n",
    "    print(f' - Constraint 3: {solver.Value(army)} % 37 = {solver.Value(army) % 37}')\n",
    "\n",
    "else:\n",
    "    print('The solver could not find a solution.')"
   ]
  },
  {
   "cell_type": "raw",
   "id": "bd253fbc",
   "metadata": {},
   "source": [
    "We limited the search space with an upper bound of 10,000, which gave us a unique solution. But is it still the case if we push this limit?"
   ]
  },
  {
   "cell_type": "code",
   "execution_count": 12,
   "id": "09c46a8d",
   "metadata": {},
   "outputs": [
    {
     "name": "stdout",
     "output_type": "stream",
     "text": [
      "9139\n",
      "CPU times: user 2.25 ms, sys: 116 µs, total: 2.37 ms\n",
      "Wall time: 2.34 ms\n"
     ]
    }
   ],
   "source": [
    "%%time\n",
    "for n in range(1, 10000):\n",
    "    if ((n % 13 == 0) and (n % 19 == 0) and (n % 37 == 0)):\n",
    "        print(n)"
   ]
  },
  {
   "cell_type": "raw",
   "id": "07c1aa06",
   "metadata": {},
   "source": [
    "Another perk of CP is the ability to find every possible solution to a problem. This might take a long time when the search space is large because the solver has to brute force the entire space (instead of reducing it with heuristics). Let's explore this feature by printing every possible solution with a new upper bound of 100,000."
   ]
  },
  {
   "cell_type": "code",
   "execution_count": 14,
   "id": "8f43e015",
   "metadata": {},
   "outputs": [
    {
     "name": "stdout",
     "output_type": "stream",
     "text": [
      "9139\n",
      "18278\n",
      "27417\n",
      "36556\n",
      "45695\n",
      "54834\n",
      "63973\n",
      "73112\n",
      "82251\n",
      "91390\n"
     ]
    }
   ],
   "source": [
    "model = cp_model.CpModel()\n",
    "solver = cp_model.CpSolver()\n",
    "\n",
    "# 1. Variable\n",
    "army = model.NewIntVar(1, 100000, 'army')\n",
    "\n",
    "# 2. Constraints\n",
    "model.AddModuloEquality(0, army, 13)\n",
    "model.AddModuloEquality(0, army, 19)\n",
    "model.AddModuloEquality(0, army, 37)\n",
    "\n",
    "\n",
    "class PrintSolutions(cp_model.CpSolverSolutionCallback):\n",
    "    \"\"\"Callback to print every solution.\"\"\"\n",
    "\n",
    "    def __init__(self, variable):\n",
    "        cp_model.CpSolverSolutionCallback.__init__(self)\n",
    "        self.__variable = variable\n",
    "\n",
    "    def on_solution_callback(self):\n",
    "        print(self.Value(self.__variable))\n",
    "\n",
    "# Solve with callback\n",
    "solution_printer = PrintSolutions(army)\n",
    "solver.parameters.enumerate_all_solutions = True\n",
    "status = solver.Solve(model, solution_printer)"
   ]
  },
  {
   "cell_type": "code",
   "execution_count": 15,
   "id": "21b21a65",
   "metadata": {},
   "outputs": [
    {
     "name": "stdout",
     "output_type": "stream",
     "text": [
      "9139\n",
      "18278\n",
      "27417\n",
      "36556\n",
      "45695\n",
      "54834\n",
      "63973\n",
      "73112\n",
      "82251\n",
      "91390\n",
      "CPU times: user 16.6 ms, sys: 636 µs, total: 17.3 ms\n",
      "Wall time: 18.7 ms\n"
     ]
    }
   ],
   "source": [
    "%%time\n",
    "for n in range(1, 100000):\n",
    "    if ((n % 13 == 0) and (n % 19 == 0) and (n % 37 == 0)):\n",
    "        print(n)"
   ]
  },
  {
   "cell_type": "code",
   "execution_count": null,
   "id": "670c382b",
   "metadata": {},
   "outputs": [],
   "source": []
  }
 ],
 "metadata": {
  "kernelspec": {
   "display_name": "Python 3 (ipykernel)",
   "language": "python",
   "name": "python3"
  },
  "language_info": {
   "codemirror_mode": {
    "name": "ipython",
    "version": 3
   },
   "file_extension": ".py",
   "mimetype": "text/x-python",
   "name": "python",
   "nbconvert_exporter": "python",
   "pygments_lexer": "ipython3",
   "version": "3.8.13"
  }
 },
 "nbformat": 4,
 "nbformat_minor": 5
}
