{
 "cells": [
  {
   "cell_type": "code",
   "execution_count": 1,
   "id": "354caa88",
   "metadata": {},
   "outputs": [],
   "source": [
    "import geopandas as gpd"
   ]
  },
  {
   "cell_type": "code",
   "execution_count": 18,
   "id": "e70ebc0a",
   "metadata": {},
   "outputs": [],
   "source": [
    "# https://geopandas.org/en/stable/docs/reference/api/geopandas.GeoDataFrame.sjoin_nearest.html\n",
    "countries = gpd.read_file(gpd.datasets.get_path(\"naturalearth_lowres\"))\n",
    "cities = gpd.read_file(gpd.datasets.get_path(\"naturalearth_cities\"))"
   ]
  },
  {
   "cell_type": "code",
   "execution_count": 19,
   "id": "4346dc1f",
   "metadata": {},
   "outputs": [
    {
     "name": "stdout",
     "output_type": "stream",
     "text": [
      "countries: 177\n",
      "cities: 243\n"
     ]
    }
   ],
   "source": [
    "print(f\"countries: {len(countries)}\")\n",
    "print(f\"cities: {len(cities)}\")"
   ]
  },
  {
   "cell_type": "code",
   "execution_count": 20,
   "id": "0a1af8b3",
   "metadata": {},
   "outputs": [
    {
     "name": "stdout",
     "output_type": "stream",
     "text": [
      "EPSG:4326\n",
      "EPSG:4326\n"
     ]
    }
   ],
   "source": [
    "print(countries.crs)\n",
    "print(cities.crs)"
   ]
  },
  {
   "cell_type": "code",
   "execution_count": 21,
   "id": "784fc5bd",
   "metadata": {},
   "outputs": [],
   "source": [
    "# Define the projected CRS you want to use\n",
    "crs = \"EPSG:4326\"\n",
    "# Reproject the GeoSeries to the projected CRS\n",
    "countries = countries.to_crs(crs)\n",
    "cities = cities.to_crs(crs)"
   ]
  },
  {
   "cell_type": "code",
   "execution_count": 22,
   "id": "237f6260",
   "metadata": {},
   "outputs": [
    {
     "name": "stderr",
     "output_type": "stream",
     "text": [
      "/Users/ULABIAD/vscode/inf8790-projet/venv/lib/python3.8/site-packages/geopandas/array.py:344: UserWarning: Geometry is in a geographic CRS. Results from 'sjoin_nearest' are likely incorrect. Use 'GeoSeries.to_crs()' to re-project geometries to a projected CRS before this operation.\n",
      "\n",
      "  warnings.warn(\n"
     ]
    }
   ],
   "source": [
    "cities_w_country_data = cities.sjoin_nearest(countries, distance_col=\"distances\")"
   ]
  },
  {
   "cell_type": "code",
   "execution_count": 23,
   "id": "461ada55",
   "metadata": {},
   "outputs": [
    {
     "data": {
      "text/plain": [
       "243"
      ]
     },
     "execution_count": 23,
     "metadata": {},
     "output_type": "execute_result"
    }
   ],
   "source": [
    "len(cities_w_country_data)"
   ]
  },
  {
   "cell_type": "code",
   "execution_count": 24,
   "id": "7b88005f",
   "metadata": {},
   "outputs": [
    {
     "data": {
      "text/html": [
       "<div>\n",
       "<style scoped>\n",
       "    .dataframe tbody tr th:only-of-type {\n",
       "        vertical-align: middle;\n",
       "    }\n",
       "\n",
       "    .dataframe tbody tr th {\n",
       "        vertical-align: top;\n",
       "    }\n",
       "\n",
       "    .dataframe thead th {\n",
       "        text-align: right;\n",
       "    }\n",
       "</style>\n",
       "<table border=\"1\" class=\"dataframe\">\n",
       "  <thead>\n",
       "    <tr style=\"text-align: right;\">\n",
       "      <th></th>\n",
       "      <th>name_left</th>\n",
       "      <th>geometry</th>\n",
       "      <th>index_right</th>\n",
       "      <th>pop_est</th>\n",
       "      <th>continent</th>\n",
       "      <th>name_right</th>\n",
       "      <th>iso_a3</th>\n",
       "      <th>gdp_md_est</th>\n",
       "      <th>distances</th>\n",
       "    </tr>\n",
       "  </thead>\n",
       "  <tbody>\n",
       "    <tr>\n",
       "      <th>0</th>\n",
       "      <td>Vatican City</td>\n",
       "      <td>POINT (12.45339 41.90328)</td>\n",
       "      <td>141</td>\n",
       "      <td>60297396.0</td>\n",
       "      <td>Europe</td>\n",
       "      <td>Italy</td>\n",
       "      <td>ITA</td>\n",
       "      <td>2003576</td>\n",
       "      <td>0.000000</td>\n",
       "    </tr>\n",
       "    <tr>\n",
       "      <th>1</th>\n",
       "      <td>San Marino</td>\n",
       "      <td>POINT (12.44177 43.93610)</td>\n",
       "      <td>141</td>\n",
       "      <td>60297396.0</td>\n",
       "      <td>Europe</td>\n",
       "      <td>Italy</td>\n",
       "      <td>ITA</td>\n",
       "      <td>2003576</td>\n",
       "      <td>0.000000</td>\n",
       "    </tr>\n",
       "    <tr>\n",
       "      <th>137</th>\n",
       "      <td>Valletta</td>\n",
       "      <td>POINT (14.51471 35.89973)</td>\n",
       "      <td>141</td>\n",
       "      <td>60297396.0</td>\n",
       "      <td>Europe</td>\n",
       "      <td>Italy</td>\n",
       "      <td>ITA</td>\n",
       "      <td>2003576</td>\n",
       "      <td>0.904731</td>\n",
       "    </tr>\n",
       "    <tr>\n",
       "      <th>226</th>\n",
       "      <td>Rome</td>\n",
       "      <td>POINT (12.48131 41.89790)</td>\n",
       "      <td>141</td>\n",
       "      <td>60297396.0</td>\n",
       "      <td>Europe</td>\n",
       "      <td>Italy</td>\n",
       "      <td>ITA</td>\n",
       "      <td>2003576</td>\n",
       "      <td>0.000000</td>\n",
       "    </tr>\n",
       "  </tbody>\n",
       "</table>\n",
       "</div>"
      ],
      "text/plain": [
       "        name_left                   geometry  index_right     pop_est  \\\n",
       "0    Vatican City  POINT (12.45339 41.90328)          141  60297396.0   \n",
       "1      San Marino  POINT (12.44177 43.93610)          141  60297396.0   \n",
       "137      Valletta  POINT (14.51471 35.89973)          141  60297396.0   \n",
       "226          Rome  POINT (12.48131 41.89790)          141  60297396.0   \n",
       "\n",
       "    continent name_right iso_a3  gdp_md_est  distances  \n",
       "0      Europe      Italy    ITA     2003576   0.000000  \n",
       "1      Europe      Italy    ITA     2003576   0.000000  \n",
       "137    Europe      Italy    ITA     2003576   0.904731  \n",
       "226    Europe      Italy    ITA     2003576   0.000000  "
      ]
     },
     "execution_count": 24,
     "metadata": {},
     "output_type": "execute_result"
    }
   ],
   "source": [
    "cities_w_country_data[cities_w_country_data[\"name_right\"]==\"Italy\"]"
   ]
  },
  {
   "cell_type": "code",
   "execution_count": null,
   "id": "a5102a87",
   "metadata": {},
   "outputs": [],
   "source": []
  },
  {
   "cell_type": "code",
   "execution_count": null,
   "id": "389e525d",
   "metadata": {},
   "outputs": [],
   "source": []
  }
 ],
 "metadata": {
  "kernelspec": {
   "display_name": "Python 3 (ipykernel)",
   "language": "python",
   "name": "python3"
  },
  "language_info": {
   "codemirror_mode": {
    "name": "ipython",
    "version": 3
   },
   "file_extension": ".py",
   "mimetype": "text/x-python",
   "name": "python",
   "nbconvert_exporter": "python",
   "pygments_lexer": "ipython3",
   "version": "3.8.13"
  }
 },
 "nbformat": 4,
 "nbformat_minor": 5
}
