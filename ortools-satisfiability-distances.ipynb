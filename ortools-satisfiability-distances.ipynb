{
 "cells": [
  {
   "cell_type": "code",
   "execution_count": 1,
   "id": "664f8585",
   "metadata": {},
   "outputs": [],
   "source": [
    "import pandas as pd"
   ]
  },
  {
   "cell_type": "code",
   "execution_count": 2,
   "id": "38696477",
   "metadata": {},
   "outputs": [],
   "source": [
    "df = pd.read_csv(\"fountains-nearest-distances.csv\")"
   ]
  },
  {
   "cell_type": "code",
   "execution_count": 3,
   "id": "a88d1955",
   "metadata": {},
   "outputs": [],
   "source": [
    "df_cpy = df.copy()\n",
    "df_cpy = df_cpy[:10]"
   ]
  },
  {
   "cell_type": "code",
   "execution_count": 4,
   "id": "37329374",
   "metadata": {},
   "outputs": [
    {
     "data": {
      "text/html": [
       "<div>\n",
       "<style scoped>\n",
       "    .dataframe tbody tr th:only-of-type {\n",
       "        vertical-align: middle;\n",
       "    }\n",
       "\n",
       "    .dataframe tbody tr th {\n",
       "        vertical-align: top;\n",
       "    }\n",
       "\n",
       "    .dataframe thead th {\n",
       "        text-align: right;\n",
       "    }\n",
       "</style>\n",
       "<table border=\"1\" class=\"dataframe\">\n",
       "  <thead>\n",
       "    <tr style=\"text-align: right;\">\n",
       "      <th></th>\n",
       "      <th>id</th>\n",
       "      <th>nearest_rev</th>\n",
       "      <th>nearest_fountain</th>\n",
       "      <th>nearest_rvertes</th>\n",
       "      <th>nearest_pcyclable</th>\n",
       "      <th>nearest_murbain</th>\n",
       "      <th>nearest_iexterne</th>\n",
       "      <th>min_col</th>\n",
       "      <th>min_val</th>\n",
       "    </tr>\n",
       "  </thead>\n",
       "  <tbody>\n",
       "    <tr>\n",
       "      <th>0</th>\n",
       "      <td>1</td>\n",
       "      <td>2697.569104</td>\n",
       "      <td>48.907970</td>\n",
       "      <td>2512.295088</td>\n",
       "      <td>176.113692</td>\n",
       "      <td>2529.702004</td>\n",
       "      <td>21.446787</td>\n",
       "      <td>nearest_iexterne</td>\n",
       "      <td>21.446787</td>\n",
       "    </tr>\n",
       "    <tr>\n",
       "      <th>1</th>\n",
       "      <td>2</td>\n",
       "      <td>2745.451551</td>\n",
       "      <td>1.408827</td>\n",
       "      <td>2541.866572</td>\n",
       "      <td>167.330400</td>\n",
       "      <td>2495.967421</td>\n",
       "      <td>33.065103</td>\n",
       "      <td>nearest_fountain</td>\n",
       "      <td>1.408827</td>\n",
       "    </tr>\n",
       "    <tr>\n",
       "      <th>2</th>\n",
       "      <td>3</td>\n",
       "      <td>2744.043719</td>\n",
       "      <td>1.408827</td>\n",
       "      <td>2540.756133</td>\n",
       "      <td>167.190902</td>\n",
       "      <td>2497.152536</td>\n",
       "      <td>32.652200</td>\n",
       "      <td>nearest_fountain</td>\n",
       "      <td>1.408827</td>\n",
       "    </tr>\n",
       "    <tr>\n",
       "      <th>3</th>\n",
       "      <td>4</td>\n",
       "      <td>2582.406191</td>\n",
       "      <td>141.348494</td>\n",
       "      <td>2371.053545</td>\n",
       "      <td>84.592035</td>\n",
       "      <td>2670.529930</td>\n",
       "      <td>18.837126</td>\n",
       "      <td>nearest_iexterne</td>\n",
       "      <td>18.837126</td>\n",
       "    </tr>\n",
       "    <tr>\n",
       "      <th>4</th>\n",
       "      <td>5</td>\n",
       "      <td>2864.119220</td>\n",
       "      <td>126.598086</td>\n",
       "      <td>2456.527385</td>\n",
       "      <td>79.330947</td>\n",
       "      <td>2419.307259</td>\n",
       "      <td>29.983704</td>\n",
       "      <td>nearest_iexterne</td>\n",
       "      <td>29.983704</td>\n",
       "    </tr>\n",
       "    <tr>\n",
       "      <th>5</th>\n",
       "      <td>6</td>\n",
       "      <td>3534.705795</td>\n",
       "      <td>27.573425</td>\n",
       "      <td>1804.390143</td>\n",
       "      <td>117.454592</td>\n",
       "      <td>1886.561243</td>\n",
       "      <td>33.646752</td>\n",
       "      <td>nearest_fountain</td>\n",
       "      <td>27.573425</td>\n",
       "    </tr>\n",
       "    <tr>\n",
       "      <th>6</th>\n",
       "      <td>7</td>\n",
       "      <td>3507.149861</td>\n",
       "      <td>27.573425</td>\n",
       "      <td>1830.292244</td>\n",
       "      <td>125.924980</td>\n",
       "      <td>1908.962793</td>\n",
       "      <td>22.679090</td>\n",
       "      <td>nearest_iexterne</td>\n",
       "      <td>22.679090</td>\n",
       "    </tr>\n",
       "    <tr>\n",
       "      <th>7</th>\n",
       "      <td>8</td>\n",
       "      <td>3669.838151</td>\n",
       "      <td>73.121037</td>\n",
       "      <td>1413.608266</td>\n",
       "      <td>17.997478</td>\n",
       "      <td>2520.888872</td>\n",
       "      <td>14.328401</td>\n",
       "      <td>nearest_iexterne</td>\n",
       "      <td>14.328401</td>\n",
       "    </tr>\n",
       "    <tr>\n",
       "      <th>8</th>\n",
       "      <td>9</td>\n",
       "      <td>3633.569132</td>\n",
       "      <td>73.121037</td>\n",
       "      <td>1359.185286</td>\n",
       "      <td>79.001852</td>\n",
       "      <td>2593.969774</td>\n",
       "      <td>29.385897</td>\n",
       "      <td>nearest_iexterne</td>\n",
       "      <td>29.385897</td>\n",
       "    </tr>\n",
       "    <tr>\n",
       "      <th>9</th>\n",
       "      <td>10</td>\n",
       "      <td>3665.119453</td>\n",
       "      <td>1.275940</td>\n",
       "      <td>1286.954598</td>\n",
       "      <td>90.910563</td>\n",
       "      <td>2638.840073</td>\n",
       "      <td>12.749685</td>\n",
       "      <td>nearest_fountain</td>\n",
       "      <td>1.275940</td>\n",
       "    </tr>\n",
       "  </tbody>\n",
       "</table>\n",
       "</div>"
      ],
      "text/plain": [
       "   id  nearest_rev  nearest_fountain  nearest_rvertes  nearest_pcyclable   \n",
       "0   1  2697.569104         48.907970      2512.295088         176.113692  \\\n",
       "1   2  2745.451551          1.408827      2541.866572         167.330400   \n",
       "2   3  2744.043719          1.408827      2540.756133         167.190902   \n",
       "3   4  2582.406191        141.348494      2371.053545          84.592035   \n",
       "4   5  2864.119220        126.598086      2456.527385          79.330947   \n",
       "5   6  3534.705795         27.573425      1804.390143         117.454592   \n",
       "6   7  3507.149861         27.573425      1830.292244         125.924980   \n",
       "7   8  3669.838151         73.121037      1413.608266          17.997478   \n",
       "8   9  3633.569132         73.121037      1359.185286          79.001852   \n",
       "9  10  3665.119453          1.275940      1286.954598          90.910563   \n",
       "\n",
       "   nearest_murbain  nearest_iexterne           min_col    min_val  \n",
       "0      2529.702004         21.446787  nearest_iexterne  21.446787  \n",
       "1      2495.967421         33.065103  nearest_fountain   1.408827  \n",
       "2      2497.152536         32.652200  nearest_fountain   1.408827  \n",
       "3      2670.529930         18.837126  nearest_iexterne  18.837126  \n",
       "4      2419.307259         29.983704  nearest_iexterne  29.983704  \n",
       "5      1886.561243         33.646752  nearest_fountain  27.573425  \n",
       "6      1908.962793         22.679090  nearest_iexterne  22.679090  \n",
       "7      2520.888872         14.328401  nearest_iexterne  14.328401  \n",
       "8      2593.969774         29.385897  nearest_iexterne  29.385897  \n",
       "9      2638.840073         12.749685  nearest_fountain   1.275940  "
      ]
     },
     "execution_count": 4,
     "metadata": {},
     "output_type": "execute_result"
    }
   ],
   "source": [
    "df_cpy"
   ]
  },
  {
   "cell_type": "code",
   "execution_count": 5,
   "id": "d6cfd362",
   "metadata": {},
   "outputs": [],
   "source": [
    "from ortools.sat.python import cp_model\n",
    "\n",
    "# Instantiate model and solver\n",
    "model = cp_model.CpModel()\n",
    "solver = cp_model.CpSolver()"
   ]
  },
  {
   "cell_type": "code",
   "execution_count": 13,
   "id": "71ae742d",
   "metadata": {},
   "outputs": [
    {
     "data": {
      "text/plain": [
       "<ortools.sat.python.cp_model.Constraint at 0x127ee0520>"
      ]
     },
     "execution_count": 13,
     "metadata": {},
     "output_type": "execute_result"
    }
   ],
   "source": [
    "from ortools.sat.python import cp_model\n",
    "\n",
    "# Instancier le modèle\n",
    "model = cp_model.CpModel()\n",
    "solver = cp_model.CpSolver()\n",
    "\n",
    "# Définir la variable représentant la distance entre la fontaine et la piste cyclable la plus proche\n",
    "distance = model.NewIntVar(0, 10000, 'distance')\n",
    "\n",
    "# Ajouter la contrainte de distance minimale\n",
    "model.Add(distance <= 10)\n"
   ]
  },
  {
   "cell_type": "code",
   "execution_count": 16,
   "id": "2a33ca92",
   "metadata": {},
   "outputs": [],
   "source": [
    "class PrintSolutions(cp_model.CpSolverSolutionCallback):\n",
    "    \"\"\"Callback to print every solution.\"\"\"\n",
    "\n",
    "    def __init__(self, variable):\n",
    "        cp_model.CpSolverSolutionCallback.__init__(self)\n",
    "        self.__variable = variable\n",
    "\n",
    "    def on_solution_callback(self):\n",
    "        print(self.Value(self.__variable))"
   ]
  },
  {
   "cell_type": "code",
   "execution_count": 17,
   "id": "aa8296e3",
   "metadata": {},
   "outputs": [
    {
     "name": "stdout",
     "output_type": "stream",
     "text": [
      "0\n",
      "1\n",
      "2\n",
      "3\n",
      "4\n",
      "5\n",
      "6\n",
      "7\n",
      "8\n",
      "9\n",
      "10\n"
     ]
    }
   ],
   "source": [
    "# Solve with callback\n",
    "solution_printer = PrintSolutions(distance)\n",
    "solver.parameters.enumerate_all_solutions = True\n",
    "status = solver.Solve(model, solution_printer)"
   ]
  },
  {
   "cell_type": "code",
   "execution_count": 15,
   "id": "b7e42b1c",
   "metadata": {},
   "outputs": [
    {
     "name": "stdout",
     "output_type": "stream",
     "text": [
      "================= Solution =================\n",
      "Solved in 0.01 milliseconds\n",
      "\n",
      "🪖 Army = 0\n",
      "\n",
      "Check solution:\n",
      " - Constraint 1: 0\n"
     ]
    }
   ],
   "source": [
    "status = solver.Solve(model)\n",
    "\n",
    "# If a solution has been found, print results\n",
    "if status == cp_model.OPTIMAL or status == cp_model.FEASIBLE:\n",
    "    print('================= Solution =================')\n",
    "    print(f'Solved in {solver.WallTime():.2f} milliseconds')\n",
    "    print()\n",
    "    print(f'🪖 Army = {solver.Value(distance)}')\n",
    "    print()\n",
    "    print('Check solution:')\n",
    "    print(f' - Constraint 1: {solver.Value(distance)}')\n",
    "\n",
    "else:\n",
    "    print('The solver could not find a solution.')"
   ]
  },
  {
   "cell_type": "code",
   "execution_count": null,
   "id": "c1fa340a",
   "metadata": {},
   "outputs": [],
   "source": []
  }
 ],
 "metadata": {
  "kernelspec": {
   "display_name": "Python 3 (ipykernel)",
   "language": "python",
   "name": "python3"
  },
  "language_info": {
   "codemirror_mode": {
    "name": "ipython",
    "version": 3
   },
   "file_extension": ".py",
   "mimetype": "text/x-python",
   "name": "python",
   "nbconvert_exporter": "python",
   "pygments_lexer": "ipython3",
   "version": "3.8.13"
  }
 },
 "nbformat": 4,
 "nbformat_minor": 5
}
