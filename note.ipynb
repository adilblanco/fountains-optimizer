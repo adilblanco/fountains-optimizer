{
 "cells": [
  {
   "cell_type": "raw",
   "id": "a2b78e9c",
   "metadata": {},
   "source": [
    "(yes) https://donnees.montreal.ca/ville-de-montreal/installations-recreatives-sportives-et-culturelles\n",
    "(yes) https://donnees.montreal.ca/ville-de-montreal/grands-parcs-parcs-d-arrondissements-et-espaces-publics\n",
    "(yes) https://donnees.montreal.ca/ville-de-montreal/mobilierurbaingp (pas à jour)\n",
    "(yes) https://donnees.montreal.ca/ville-de-montreal/pistes-cyclables\n",
    "(no)  https://donnees.montreal.ca/ville-de-montreal/batiments-municipaux\n",
    "(yes) https://donnees.montreal.ca/ville-de-montreal/reseau-express-velo\n",
    "https://donnees.montreal.ca/ville-de-montreal/ruelles-vertes"
   ]
  },
  {
   "cell_type": "code",
   "execution_count": null,
   "id": "abc1a688",
   "metadata": {},
   "outputs": [],
   "source": []
  }
 ],
 "metadata": {
  "kernelspec": {
   "display_name": "Python 3 (ipykernel)",
   "language": "python",
   "name": "python3"
  },
  "language_info": {
   "codemirror_mode": {
    "name": "ipython",
    "version": 3
   },
   "file_extension": ".py",
   "mimetype": "text/x-python",
   "name": "python",
   "nbconvert_exporter": "python",
   "pygments_lexer": "ipython3",
   "version": "3.8.13"
  }
 },
 "nbformat": 4,
 "nbformat_minor": 5
}
